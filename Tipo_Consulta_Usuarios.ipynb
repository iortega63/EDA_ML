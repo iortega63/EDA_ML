{
  "nbformat": 4,
  "nbformat_minor": 0,
  "metadata": {
    "colab": {
      "name": "Tipo_Consulta_Usuarios.ipynb",
      "provenance": [],
      "collapsed_sections": [],
      "toc_visible": true
    },
    "kernelspec": {
      "name": "python3",
      "display_name": "Python 3"
    },
    "language_info": {
      "name": "python"
    }
  },
  "cells": [
    {
      "cell_type": "markdown",
      "metadata": {
        "id": "8aKy7Lpz1jdv"
      },
      "source": [
        "# **1. Importar librerías**"
      ]
    },
    {
      "cell_type": "code",
      "metadata": {
        "id": "bDoLgTwBzPg6"
      },
      "source": [
        "import pandas as pd\n",
        "import numpy as np\n",
        "import seaborn as sns\n",
        "import matplotlib.pyplot as plt\n",
        "\n",
        "from sklearn import preprocessing\n",
        "from scipy.stats import chi2_contingency"
      ],
      "execution_count": null,
      "outputs": []
    },
    {
      "cell_type": "markdown",
      "metadata": {
        "id": "7RAWiixpzd8n"
      },
      "source": [
        "# **2. Cargar datasets**"
      ]
    },
    {
      "cell_type": "code",
      "metadata": {
        "colab": {
          "base_uri": "https://localhost:8080/",
          "height": 202
        },
        "id": "mNzxPjWmKd1u",
        "outputId": "164ec841-999f-40ca-9041-16e61b6d9e7b"
      },
      "source": [
        "df1 = pd.read_csv('HistConsultas.csv', sep=';', encoding='latin-1')\n",
        "df1.head()"
      ],
      "execution_count": null,
      "outputs": [
        {
          "output_type": "execute_result",
          "data": {
            "text/html": [
              "<div>\n",
              "<style scoped>\n",
              "    .dataframe tbody tr th:only-of-type {\n",
              "        vertical-align: middle;\n",
              "    }\n",
              "\n",
              "    .dataframe tbody tr th {\n",
              "        vertical-align: top;\n",
              "    }\n",
              "\n",
              "    .dataframe thead th {\n",
              "        text-align: right;\n",
              "    }\n",
              "</style>\n",
              "<table border=\"1\" class=\"dataframe\">\n",
              "  <thead>\n",
              "    <tr style=\"text-align: right;\">\n",
              "      <th></th>\n",
              "      <th>ID_Cuenta</th>\n",
              "      <th>Fecha_consulta</th>\n",
              "      <th>Tipo_consulta</th>\n",
              "    </tr>\n",
              "  </thead>\n",
              "  <tbody>\n",
              "    <tr>\n",
              "      <th>0</th>\n",
              "      <td>340</td>\n",
              "      <td>2015-06-22 16:14:35</td>\n",
              "      <td>Actualización datos</td>\n",
              "    </tr>\n",
              "    <tr>\n",
              "      <th>1</th>\n",
              "      <td>340</td>\n",
              "      <td>2015-06-22 16:37:02</td>\n",
              "      <td>Agendamiento citas</td>\n",
              "    </tr>\n",
              "    <tr>\n",
              "      <th>2</th>\n",
              "      <td>340</td>\n",
              "      <td>2015-06-22 15:50:56</td>\n",
              "      <td>Agendamiento citas</td>\n",
              "    </tr>\n",
              "    <tr>\n",
              "      <th>3</th>\n",
              "      <td>4d5c0e16-9bef-8334-687e-55f043e02c62</td>\n",
              "      <td>2015-09-09 14:35:37</td>\n",
              "      <td>Agendamiento citas</td>\n",
              "    </tr>\n",
              "    <tr>\n",
              "      <th>4</th>\n",
              "      <td>66df1d0e-0d2c-1e44-aa3a-55b2a013640c</td>\n",
              "      <td>2015-07-24 20:36:26</td>\n",
              "      <td>Agendamiento citas</td>\n",
              "    </tr>\n",
              "  </tbody>\n",
              "</table>\n",
              "</div>"
            ],
            "text/plain": [
              "                              ID_Cuenta  ...        Tipo_consulta\n",
              "0                                   340  ...  Actualización datos\n",
              "1                                   340  ...   Agendamiento citas\n",
              "2                                   340  ...   Agendamiento citas\n",
              "3  4d5c0e16-9bef-8334-687e-55f043e02c62  ...   Agendamiento citas\n",
              "4  66df1d0e-0d2c-1e44-aa3a-55b2a013640c  ...   Agendamiento citas\n",
              "\n",
              "[5 rows x 3 columns]"
            ]
          },
          "metadata": {
            "tags": []
          },
          "execution_count": 3
        }
      ]
    },
    {
      "cell_type": "code",
      "metadata": {
        "colab": {
          "base_uri": "https://localhost:8080/",
          "height": 202
        },
        "id": "q4QovNr02LNz",
        "outputId": "6e3d8624-05f9-444b-89b7-21e29b819d30"
      },
      "source": [
        "df1.tail()"
      ],
      "execution_count": null,
      "outputs": [
        {
          "output_type": "execute_result",
          "data": {
            "text/html": [
              "<div>\n",
              "<style scoped>\n",
              "    .dataframe tbody tr th:only-of-type {\n",
              "        vertical-align: middle;\n",
              "    }\n",
              "\n",
              "    .dataframe tbody tr th {\n",
              "        vertical-align: top;\n",
              "    }\n",
              "\n",
              "    .dataframe thead th {\n",
              "        text-align: right;\n",
              "    }\n",
              "</style>\n",
              "<table border=\"1\" class=\"dataframe\">\n",
              "  <thead>\n",
              "    <tr style=\"text-align: right;\">\n",
              "      <th></th>\n",
              "      <th>ID_Cuenta</th>\n",
              "      <th>Fecha_consulta</th>\n",
              "      <th>Tipo_consulta</th>\n",
              "    </tr>\n",
              "  </thead>\n",
              "  <tbody>\n",
              "    <tr>\n",
              "      <th>641475</th>\n",
              "      <td>YA5972336</td>\n",
              "      <td>2015-06-23 18:09:45</td>\n",
              "      <td>Agendamiento citas</td>\n",
              "    </tr>\n",
              "    <tr>\n",
              "      <th>641476</th>\n",
              "      <td>YA5981643</td>\n",
              "      <td>2015-06-23 19:35:04</td>\n",
              "      <td>Actualización datos</td>\n",
              "    </tr>\n",
              "    <tr>\n",
              "      <th>641477</th>\n",
              "      <td>YB429084</td>\n",
              "      <td>2015-08-19 21:28:34</td>\n",
              "      <td>Agendamiento citas</td>\n",
              "    </tr>\n",
              "    <tr>\n",
              "      <th>641478</th>\n",
              "      <td>YO231519S</td>\n",
              "      <td>2015-06-30 13:05:21</td>\n",
              "      <td>Información general</td>\n",
              "    </tr>\n",
              "    <tr>\n",
              "      <th>641479</th>\n",
              "      <td>Z3047092</td>\n",
              "      <td>2015-09-25 14:42:42</td>\n",
              "      <td>Agendamiento citas</td>\n",
              "    </tr>\n",
              "  </tbody>\n",
              "</table>\n",
              "</div>"
            ],
            "text/plain": [
              "        ID_Cuenta       Fecha_consulta        Tipo_consulta\n",
              "641475  YA5972336  2015-06-23 18:09:45   Agendamiento citas\n",
              "641476  YA5981643  2015-06-23 19:35:04  Actualización datos\n",
              "641477   YB429084  2015-08-19 21:28:34   Agendamiento citas\n",
              "641478  YO231519S  2015-06-30 13:05:21  Información general\n",
              "641479   Z3047092  2015-09-25 14:42:42   Agendamiento citas"
            ]
          },
          "metadata": {
            "tags": []
          },
          "execution_count": 6
        }
      ]
    },
    {
      "cell_type": "code",
      "metadata": {
        "colab": {
          "base_uri": "https://localhost:8080/",
          "height": 202
        },
        "id": "mNQ6R4pSzuyO",
        "outputId": "ae2cfe3c-1dc1-4ac4-db7e-15c7b7a3e7db"
      },
      "source": [
        "df2 = pd.read_csv('Usuarios.csv', sep=';', encoding='latin-1')\n",
        "df2.head(5)"
      ],
      "execution_count": null,
      "outputs": [
        {
          "output_type": "execute_result",
          "data": {
            "text/html": [
              "<div>\n",
              "<style scoped>\n",
              "    .dataframe tbody tr th:only-of-type {\n",
              "        vertical-align: middle;\n",
              "    }\n",
              "\n",
              "    .dataframe tbody tr th {\n",
              "        vertical-align: top;\n",
              "    }\n",
              "\n",
              "    .dataframe thead th {\n",
              "        text-align: right;\n",
              "    }\n",
              "</style>\n",
              "<table border=\"1\" class=\"dataframe\">\n",
              "  <thead>\n",
              "    <tr style=\"text-align: right;\">\n",
              "      <th></th>\n",
              "      <th>ID_Cuenta</th>\n",
              "      <th>Tipo_persona</th>\n",
              "      <th>Departamento</th>\n",
              "    </tr>\n",
              "  </thead>\n",
              "  <tbody>\n",
              "    <tr>\n",
              "      <th>0</th>\n",
              "      <td>340</td>\n",
              "      <td>soltero</td>\n",
              "      <td>Santafé de Bogotá</td>\n",
              "    </tr>\n",
              "    <tr>\n",
              "      <th>1</th>\n",
              "      <td>4d5c0e16-9bef-8334-687e-55f043e02c62</td>\n",
              "      <td>soltero</td>\n",
              "      <td>Santafé de Bogotá</td>\n",
              "    </tr>\n",
              "    <tr>\n",
              "      <th>2</th>\n",
              "      <td>66df1d0e-0d2c-1e44-aa3a-55b2a013640c</td>\n",
              "      <td>soltero</td>\n",
              "      <td>Santafé de Bogotá</td>\n",
              "    </tr>\n",
              "    <tr>\n",
              "      <th>3</th>\n",
              "      <td>1640de7c-ba08-cdfc-c21b-517fd7c5a259</td>\n",
              "      <td>soltero</td>\n",
              "      <td>Santafé de Bogotá</td>\n",
              "    </tr>\n",
              "    <tr>\n",
              "      <th>4</th>\n",
              "      <td>e820f090-f4e7-eb8b-677c-55808c868b6f</td>\n",
              "      <td>unión libre</td>\n",
              "      <td>Santafé de Bogotá</td>\n",
              "    </tr>\n",
              "  </tbody>\n",
              "</table>\n",
              "</div>"
            ],
            "text/plain": [
              "                              ID_Cuenta Tipo_persona       Departamento\n",
              "0                                   340      soltero  Santafé de Bogotá\n",
              "1  4d5c0e16-9bef-8334-687e-55f043e02c62      soltero  Santafé de Bogotá\n",
              "2  66df1d0e-0d2c-1e44-aa3a-55b2a013640c      soltero  Santafé de Bogotá\n",
              "3  1640de7c-ba08-cdfc-c21b-517fd7c5a259      soltero  Santafé de Bogotá\n",
              "4  e820f090-f4e7-eb8b-677c-55808c868b6f  unión libre  Santafé de Bogotá"
            ]
          },
          "metadata": {
            "tags": []
          },
          "execution_count": 4
        }
      ]
    },
    {
      "cell_type": "code",
      "metadata": {
        "colab": {
          "base_uri": "https://localhost:8080/",
          "height": 202
        },
        "id": "zLhCCDuL2N4B",
        "outputId": "0f411105-cedf-4de9-ae95-1587b1082033"
      },
      "source": [
        "df2.tail()"
      ],
      "execution_count": null,
      "outputs": [
        {
          "output_type": "execute_result",
          "data": {
            "text/html": [
              "<div>\n",
              "<style scoped>\n",
              "    .dataframe tbody tr th:only-of-type {\n",
              "        vertical-align: middle;\n",
              "    }\n",
              "\n",
              "    .dataframe tbody tr th {\n",
              "        vertical-align: top;\n",
              "    }\n",
              "\n",
              "    .dataframe thead th {\n",
              "        text-align: right;\n",
              "    }\n",
              "</style>\n",
              "<table border=\"1\" class=\"dataframe\">\n",
              "  <thead>\n",
              "    <tr style=\"text-align: right;\">\n",
              "      <th></th>\n",
              "      <th>ID_Cuenta</th>\n",
              "      <th>Tipo_persona</th>\n",
              "      <th>Departamento</th>\n",
              "    </tr>\n",
              "  </thead>\n",
              "  <tbody>\n",
              "    <tr>\n",
              "      <th>337046</th>\n",
              "      <td>YA5972336</td>\n",
              "      <td>soltero</td>\n",
              "      <td>Santafé de Bogotá</td>\n",
              "    </tr>\n",
              "    <tr>\n",
              "      <th>337047</th>\n",
              "      <td>YA5981643</td>\n",
              "      <td>soltero</td>\n",
              "      <td>Santafé de Bogotá</td>\n",
              "    </tr>\n",
              "    <tr>\n",
              "      <th>337048</th>\n",
              "      <td>YB429084</td>\n",
              "      <td>NaN</td>\n",
              "      <td>Santafé de Bogotá</td>\n",
              "    </tr>\n",
              "    <tr>\n",
              "      <th>337049</th>\n",
              "      <td>YO231519S</td>\n",
              "      <td>soltero</td>\n",
              "      <td>Exterior</td>\n",
              "    </tr>\n",
              "    <tr>\n",
              "      <th>337050</th>\n",
              "      <td>Z3047092</td>\n",
              "      <td>soltero</td>\n",
              "      <td>Santafé de Bogotá</td>\n",
              "    </tr>\n",
              "  </tbody>\n",
              "</table>\n",
              "</div>"
            ],
            "text/plain": [
              "        ID_Cuenta Tipo_persona       Departamento\n",
              "337046  YA5972336      soltero  Santafé de Bogotá\n",
              "337047  YA5981643      soltero  Santafé de Bogotá\n",
              "337048   YB429084          NaN  Santafé de Bogotá\n",
              "337049  YO231519S      soltero           Exterior\n",
              "337050   Z3047092      soltero  Santafé de Bogotá"
            ]
          },
          "metadata": {
            "tags": []
          },
          "execution_count": 8
        }
      ]
    },
    {
      "cell_type": "markdown",
      "metadata": {
        "id": "-xdtLdGp0_Dx"
      },
      "source": [
        "# **3. Explorar datasets**"
      ]
    },
    {
      "cell_type": "markdown",
      "metadata": {
        "id": "Z4QhXTyu2DtA"
      },
      "source": [
        "**Cantidad de registros**"
      ]
    },
    {
      "cell_type": "code",
      "metadata": {
        "colab": {
          "base_uri": "https://localhost:8080/"
        },
        "id": "_JL8p_9r2CFX",
        "outputId": "a4724663-5849-47e6-9721-46f8bbe22f4d"
      },
      "source": [
        "df1.shape"
      ],
      "execution_count": null,
      "outputs": [
        {
          "output_type": "execute_result",
          "data": {
            "text/plain": [
              "(641480, 3)"
            ]
          },
          "metadata": {
            "tags": []
          },
          "execution_count": 9
        }
      ]
    },
    {
      "cell_type": "code",
      "metadata": {
        "colab": {
          "base_uri": "https://localhost:8080/"
        },
        "id": "ynQk2u9M22Zn",
        "outputId": "a592111a-d50e-4ac9-bd01-6109a1dac34c"
      },
      "source": [
        "df2.shape"
      ],
      "execution_count": null,
      "outputs": [
        {
          "output_type": "execute_result",
          "data": {
            "text/plain": [
              "(337051, 3)"
            ]
          },
          "metadata": {
            "tags": []
          },
          "execution_count": 10
        }
      ]
    },
    {
      "cell_type": "markdown",
      "metadata": {
        "id": "uEcSCdlc28Nj"
      },
      "source": [
        "**IDs únicos de cuenta**"
      ]
    },
    {
      "cell_type": "code",
      "metadata": {
        "colab": {
          "base_uri": "https://localhost:8080/"
        },
        "id": "nVQ405kYTow2",
        "outputId": "ae54b4e7-9026-4246-9a75-c5c7e0fc74fe"
      },
      "source": [
        "len(df1.ID_Cuenta.unique())"
      ],
      "execution_count": null,
      "outputs": [
        {
          "output_type": "execute_result",
          "data": {
            "text/plain": [
              "319862"
            ]
          },
          "metadata": {
            "tags": []
          },
          "execution_count": 11
        }
      ]
    },
    {
      "cell_type": "code",
      "metadata": {
        "colab": {
          "base_uri": "https://localhost:8080/"
        },
        "id": "yoWbVysN3gFR",
        "outputId": "b4cd023d-74ec-4577-ee7f-56c8035b7e13"
      },
      "source": [
        "df1['ID_Cuenta'].value_counts()"
      ],
      "execution_count": null,
      "outputs": [
        {
          "output_type": "execute_result",
          "data": {
            "text/plain": [
              "1234          330\n",
              "121314        278\n",
              "79626334       74\n",
              "14274459       72\n",
              "51658310       65\n",
              "             ... \n",
              "900855949       1\n",
              "80411068        1\n",
              "20084676        1\n",
              "1070944858      1\n",
              "79341479        1\n",
              "Name: ID_Cuenta, Length: 319862, dtype: int64"
            ]
          },
          "metadata": {
            "tags": []
          },
          "execution_count": 12
        }
      ]
    },
    {
      "cell_type": "code",
      "metadata": {
        "colab": {
          "base_uri": "https://localhost:8080/"
        },
        "id": "A4EQi3UJUf0Z",
        "outputId": "3362261c-c63c-4e24-fe3e-9d4eddad7b36"
      },
      "source": [
        "len(df2.ID_Cuenta.unique())"
      ],
      "execution_count": null,
      "outputs": [
        {
          "output_type": "execute_result",
          "data": {
            "text/plain": [
              "319862"
            ]
          },
          "metadata": {
            "tags": []
          },
          "execution_count": 13
        }
      ]
    },
    {
      "cell_type": "code",
      "metadata": {
        "colab": {
          "base_uri": "https://localhost:8080/"
        },
        "id": "z_IVY6zz3i6a",
        "outputId": "cda7ed2a-e292-4e80-c5b1-2711499565b2"
      },
      "source": [
        "df2['ID_Cuenta'].value_counts()"
      ],
      "execution_count": null,
      "outputs": [
        {
          "output_type": "execute_result",
          "data": {
            "text/plain": [
              "121314        14\n",
              "1234          13\n",
              "1022390282     8\n",
              "1              7\n",
              "30881871       6\n",
              "              ..\n",
              "79365168       1\n",
              "1030583820     1\n",
              "52169677       1\n",
              "900737767      1\n",
              "79341479       1\n",
              "Name: ID_Cuenta, Length: 319862, dtype: int64"
            ]
          },
          "metadata": {
            "tags": []
          },
          "execution_count": 14
        }
      ]
    },
    {
      "cell_type": "code",
      "metadata": {
        "colab": {
          "base_uri": "https://localhost:8080/"
        },
        "id": "zlp0n7qn68ib",
        "outputId": "03aa4adc-4a1d-4df4-ae01-9f776fb1cc15"
      },
      "source": [
        "rows1 = df1[df1['ID_Cuenta'] == '340'] # Este dataset parece tener consistencia.\n",
        "# ¿Es posible que un mismo usuario realice varias consultas simultáneamente? Es decir que, para una misma fecha/hora, se tengan dos tipos de consulta diferentes.\n",
        "print(rows1)"
      ],
      "execution_count": null,
      "outputs": [
        {
          "output_type": "stream",
          "text": [
            "  ID_Cuenta       Fecha_consulta        Tipo_consulta\n",
            "0       340  2015-06-22 16:14:35  Actualización datos\n",
            "1       340  2015-06-22 16:37:02   Agendamiento citas\n",
            "2       340  2015-06-22 15:50:56   Agendamiento citas\n"
          ],
          "name": "stdout"
        }
      ]
    },
    {
      "cell_type": "code",
      "metadata": {
        "colab": {
          "base_uri": "https://localhost:8080/"
        },
        "id": "ND7tSSyL6-a5",
        "outputId": "ff4c5968-1d39-46b5-d2b6-ca16b8723207"
      },
      "source": [
        "rows2 = df2[df2['ID_Cuenta'] == '340']\n",
        "print(rows2)"
      ],
      "execution_count": null,
      "outputs": [
        {
          "output_type": "stream",
          "text": [
            "  ID_Cuenta Tipo_persona       Departamento\n",
            "0       340      soltero  Santafé de Bogotá\n"
          ],
          "name": "stdout"
        }
      ]
    },
    {
      "cell_type": "code",
      "metadata": {
        "colab": {
          "base_uri": "https://localhost:8080/"
        },
        "id": "MzWD0BvA7iGl",
        "outputId": "3162ea9c-781b-4ea4-9ac5-3bc463ab75f4"
      },
      "source": [
        "rows12 = df1[df1['ID_Cuenta'] == '0013469804']\n",
        "print(rows12)"
      ],
      "execution_count": null,
      "outputs": [
        {
          "output_type": "stream",
          "text": [
            "       ID_Cuenta       Fecha_consulta        Tipo_consulta\n",
            "2052  0013469804  2015-06-18 15:54:34  Peticiones y quejas\n",
            "2053  0013469804  2015-06-18 16:00:29  Peticiones y quejas\n",
            "2054  0013469804  2015-06-18 15:38:01  Peticiones y quejas\n"
          ],
          "name": "stdout"
        }
      ]
    },
    {
      "cell_type": "code",
      "metadata": {
        "colab": {
          "base_uri": "https://localhost:8080/"
        },
        "id": "lBcT05WY7qLM",
        "outputId": "53e33033-9475-4bef-aada-d238fa38ad3c"
      },
      "source": [
        "rows22 = df2[df2['ID_Cuenta'] == '0013469804'] # Aquí se presenta una incongruencia: El mismo usuario con dos estados civil y departamentos origen diferentes.\n",
        "# No sería una incongruencia si, estando dentro del mismo dataset, ambos registros correspondieran a fechas/horas de consulta diferentes.\n",
        "print(rows22)"
      ],
      "execution_count": null,
      "outputs": [
        {
          "output_type": "stream",
          "text": [
            "      ID_Cuenta Tipo_persona       Departamento\n",
            "678  0013469804          NaN           Exterior\n",
            "679  0013469804      soltero  Santafé de Bogotá\n"
          ],
          "name": "stdout"
        }
      ]
    },
    {
      "cell_type": "markdown",
      "metadata": {
        "id": "g6F4g07s3tmO"
      },
      "source": [
        "**Búsqueda de nulos**"
      ]
    },
    {
      "cell_type": "code",
      "metadata": {
        "colab": {
          "base_uri": "https://localhost:8080/"
        },
        "id": "i2J57d-EYxSS",
        "outputId": "ab27c9d7-37f0-4786-8894-897189a16914"
      },
      "source": [
        "df1.isnull().values.any() # El dataset 1 no tiene nulos"
      ],
      "execution_count": null,
      "outputs": [
        {
          "output_type": "execute_result",
          "data": {
            "text/plain": [
              "False"
            ]
          },
          "metadata": {
            "tags": []
          },
          "execution_count": 15
        }
      ]
    },
    {
      "cell_type": "code",
      "metadata": {
        "colab": {
          "base_uri": "https://localhost:8080/"
        },
        "id": "MjwiOv3N37eQ",
        "outputId": "42d191c5-c340-4983-ef4d-bdd8767c957c"
      },
      "source": [
        "df2.isnull().values.any() # El dataset 2 tiene nulos"
      ],
      "execution_count": null,
      "outputs": [
        {
          "output_type": "execute_result",
          "data": {
            "text/plain": [
              "True"
            ]
          },
          "metadata": {
            "tags": []
          },
          "execution_count": 16
        }
      ]
    },
    {
      "cell_type": "code",
      "metadata": {
        "colab": {
          "base_uri": "https://localhost:8080/"
        },
        "id": "8F5a4Nll6EQa",
        "outputId": "5ec46e72-fb3b-4958-cbb9-5b71e4c94b10"
      },
      "source": [
        "df1.isna().sum()"
      ],
      "execution_count": null,
      "outputs": [
        {
          "output_type": "execute_result",
          "data": {
            "text/plain": [
              "ID_Cuenta         0\n",
              "Fecha_consulta    0\n",
              "Tipo_consulta     0\n",
              "dtype: int64"
            ]
          },
          "metadata": {
            "tags": []
          },
          "execution_count": 17
        }
      ]
    },
    {
      "cell_type": "code",
      "metadata": {
        "colab": {
          "base_uri": "https://localhost:8080/"
        },
        "id": "5myKWxnO6FxZ",
        "outputId": "fb34b62f-3a6d-453e-e901-6b409cbbe3de"
      },
      "source": [
        "df2.isna().sum() # El dataset 2 tiene 6733 nulos\n",
        "# df2.isnull().sum()"
      ],
      "execution_count": null,
      "outputs": [
        {
          "output_type": "execute_result",
          "data": {
            "text/plain": [
              "ID_Cuenta          0\n",
              "Tipo_persona    6733\n",
              "Departamento       0\n",
              "dtype: int64"
            ]
          },
          "metadata": {
            "tags": []
          },
          "execution_count": 18
        }
      ]
    },
    {
      "cell_type": "code",
      "metadata": {
        "id": "wZO9aJMgCHna"
      },
      "source": [
        "df2 = df2.dropna() # Se eliminan todos los registros que contengan alguna entrada nula.\n",
        "# ID_Cuenta no se puede imputar ni con la información disponible en el mismo registro (ya que no existe una relación clara entre las variables Tipo_persona o Departamento), ni con la información restante del dataset (porque se pueden tener diferentes usuarios con el mismo estado civil y/o departamento origen asociados).\n",
        "# Imputar los datos faltantes con Tipo_persona o Departamento de otro registro para un mismo ID_Cuenta, produciría información redundante (registros duplicados o incongruentes) que después será eliminada del dataset."
      ],
      "execution_count": null,
      "outputs": []
    },
    {
      "cell_type": "markdown",
      "metadata": {
        "id": "UpT9l2EK4poY"
      },
      "source": [
        "**Búsqueda de registros duplicados**"
      ]
    },
    {
      "cell_type": "code",
      "metadata": {
        "colab": {
          "base_uri": "https://localhost:8080/"
        },
        "id": "4qdjIbRnykJl",
        "outputId": "21056a30-38a4-4bd4-c81a-f789136ae4e6"
      },
      "source": [
        "df1.duplicated().sum() # El dataset 1 no tiene registros duplicados\n",
        "#print(df1[df1.duplicated()])"
      ],
      "execution_count": null,
      "outputs": [
        {
          "output_type": "execute_result",
          "data": {
            "text/plain": [
              "0"
            ]
          },
          "metadata": {
            "tags": []
          },
          "execution_count": 19
        }
      ]
    },
    {
      "cell_type": "code",
      "metadata": {
        "colab": {
          "base_uri": "https://localhost:8080/"
        },
        "id": "JBFFCtMi48Er",
        "outputId": "8c4d9e71-7b4d-44e0-b874-8d6d1cb0a55a"
      },
      "source": [
        "df2.duplicated().sum() # El dataset 2 tiene 23 registros duplicados\n",
        "#print(df2[df2.duplicated()])"
      ],
      "execution_count": null,
      "outputs": [
        {
          "output_type": "execute_result",
          "data": {
            "text/plain": [
              "23"
            ]
          },
          "metadata": {
            "tags": []
          },
          "execution_count": 20
        }
      ]
    },
    {
      "cell_type": "code",
      "metadata": {
        "id": "5vvUGuqiKd0i"
      },
      "source": [
        "df2 = df2.drop_duplicates() # Se eliminan los registros duplicados"
      ],
      "execution_count": null,
      "outputs": []
    },
    {
      "cell_type": "code",
      "metadata": {
        "colab": {
          "base_uri": "https://localhost:8080/"
        },
        "id": "mbXhyUlvKib0",
        "outputId": "b0d2b40b-5c5e-45f6-e969-8299cf53a633"
      },
      "source": [
        "df2.info()"
      ],
      "execution_count": null,
      "outputs": [
        {
          "output_type": "stream",
          "text": [
            "<class 'pandas.core.frame.DataFrame'>\n",
            "Int64Index: 330295 entries, 0 to 337050\n",
            "Data columns (total 3 columns):\n",
            " #   Column        Non-Null Count   Dtype \n",
            "---  ------        --------------   ----- \n",
            " 0   ID_Cuenta     330295 non-null  object\n",
            " 1   Tipo_persona  330295 non-null  object\n",
            " 2   Departamento  330295 non-null  object\n",
            "dtypes: object(3)\n",
            "memory usage: 10.1+ MB\n"
          ],
          "name": "stdout"
        }
      ]
    },
    {
      "cell_type": "markdown",
      "metadata": {
        "id": "its3hDkBp1_J"
      },
      "source": [
        "**Búsqueda de registros dobles inconsistentes**"
      ]
    },
    {
      "cell_type": "code",
      "metadata": {
        "colab": {
          "base_uri": "https://localhost:8080/",
          "height": 662
        },
        "id": "kt5L7GwXqLWw",
        "outputId": "1eca4e50-58c4-4c76-f7f5-296bd2ec9515"
      },
      "source": [
        "df11 = df1[df1.duplicated('ID_Cuenta', keep=False)].sort_values('ID_Cuenta')\n",
        "df11.head(20)"
      ],
      "execution_count": null,
      "outputs": [
        {
          "output_type": "execute_result",
          "data": {
            "text/html": [
              "<div>\n",
              "<style scoped>\n",
              "    .dataframe tbody tr th:only-of-type {\n",
              "        vertical-align: middle;\n",
              "    }\n",
              "\n",
              "    .dataframe tbody tr th {\n",
              "        vertical-align: top;\n",
              "    }\n",
              "\n",
              "    .dataframe thead th {\n",
              "        text-align: right;\n",
              "    }\n",
              "</style>\n",
              "<table border=\"1\" class=\"dataframe\">\n",
              "  <thead>\n",
              "    <tr style=\"text-align: right;\">\n",
              "      <th></th>\n",
              "      <th>ID_Cuenta</th>\n",
              "      <th>Fecha_consulta</th>\n",
              "      <th>Tipo_consulta</th>\n",
              "    </tr>\n",
              "  </thead>\n",
              "  <tbody>\n",
              "    <tr>\n",
              "      <th>118</th>\n",
              "      <td>0000000000-</td>\n",
              "      <td>2015-06-05 21:15:54</td>\n",
              "      <td>Actualización datos</td>\n",
              "    </tr>\n",
              "    <tr>\n",
              "      <th>117</th>\n",
              "      <td>0000000000-</td>\n",
              "      <td>2015-06-02 15:12:44</td>\n",
              "      <td>Actualización datos</td>\n",
              "    </tr>\n",
              "    <tr>\n",
              "      <th>116</th>\n",
              "      <td>0000000000-</td>\n",
              "      <td>2015-08-24 13:28:45</td>\n",
              "      <td>Información general</td>\n",
              "    </tr>\n",
              "    <tr>\n",
              "      <th>2052</th>\n",
              "      <td>0013469804</td>\n",
              "      <td>2015-06-18 15:54:34</td>\n",
              "      <td>Peticiones y quejas</td>\n",
              "    </tr>\n",
              "    <tr>\n",
              "      <th>2053</th>\n",
              "      <td>0013469804</td>\n",
              "      <td>2015-06-18 16:00:29</td>\n",
              "      <td>Peticiones y quejas</td>\n",
              "    </tr>\n",
              "    <tr>\n",
              "      <th>2054</th>\n",
              "      <td>0013469804</td>\n",
              "      <td>2015-06-18 15:38:01</td>\n",
              "      <td>Peticiones y quejas</td>\n",
              "    </tr>\n",
              "    <tr>\n",
              "      <th>2057</th>\n",
              "      <td>0026673</td>\n",
              "      <td>2015-08-20 16:14:30</td>\n",
              "      <td>Agendamiento citas</td>\n",
              "    </tr>\n",
              "    <tr>\n",
              "      <th>2055</th>\n",
              "      <td>0026673</td>\n",
              "      <td>2015-08-20 16:24:54</td>\n",
              "      <td>Procesos web</td>\n",
              "    </tr>\n",
              "    <tr>\n",
              "      <th>2056</th>\n",
              "      <td>0026673</td>\n",
              "      <td>2015-08-20 14:21:45</td>\n",
              "      <td>Procesos web</td>\n",
              "    </tr>\n",
              "    <tr>\n",
              "      <th>2064</th>\n",
              "      <td>01004355</td>\n",
              "      <td>2015-07-13 16:38:48</td>\n",
              "      <td>Actualización datos</td>\n",
              "    </tr>\n",
              "    <tr>\n",
              "      <th>2065</th>\n",
              "      <td>01004355</td>\n",
              "      <td>2015-07-13 17:43:27</td>\n",
              "      <td>Agendamiento citas</td>\n",
              "    </tr>\n",
              "    <tr>\n",
              "      <th>2071</th>\n",
              "      <td>0104854476</td>\n",
              "      <td>2015-07-09 15:22:54</td>\n",
              "      <td>Peticiones y quejas</td>\n",
              "    </tr>\n",
              "    <tr>\n",
              "      <th>2070</th>\n",
              "      <td>0104854476</td>\n",
              "      <td>2015-07-29 14:29:49</td>\n",
              "      <td>Peticiones y quejas</td>\n",
              "    </tr>\n",
              "    <tr>\n",
              "      <th>2069</th>\n",
              "      <td>0104854476</td>\n",
              "      <td>2015-07-09 14:54:14</td>\n",
              "      <td>Peticiones y quejas</td>\n",
              "    </tr>\n",
              "    <tr>\n",
              "      <th>2077</th>\n",
              "      <td>017331920</td>\n",
              "      <td>2015-09-01 17:31:57</td>\n",
              "      <td>Actualización datos</td>\n",
              "    </tr>\n",
              "    <tr>\n",
              "      <th>2078</th>\n",
              "      <td>017331920</td>\n",
              "      <td>2015-09-01 17:31:58</td>\n",
              "      <td>Actualización datos</td>\n",
              "    </tr>\n",
              "    <tr>\n",
              "      <th>2079</th>\n",
              "      <td>017331920</td>\n",
              "      <td>2015-09-01 17:32:59</td>\n",
              "      <td>Actualización datos</td>\n",
              "    </tr>\n",
              "    <tr>\n",
              "      <th>2082</th>\n",
              "      <td>02739663</td>\n",
              "      <td>2015-08-25 16:37:26</td>\n",
              "      <td>Agendamiento citas</td>\n",
              "    </tr>\n",
              "    <tr>\n",
              "      <th>2083</th>\n",
              "      <td>02739663</td>\n",
              "      <td>2015-08-26 21:18:10</td>\n",
              "      <td>Actualización datos</td>\n",
              "    </tr>\n",
              "    <tr>\n",
              "      <th>2085</th>\n",
              "      <td>029753808</td>\n",
              "      <td>2015-08-31 13:46:46</td>\n",
              "      <td>Actualización datos</td>\n",
              "    </tr>\n",
              "  </tbody>\n",
              "</table>\n",
              "</div>"
            ],
            "text/plain": [
              "        ID_Cuenta       Fecha_consulta        Tipo_consulta\n",
              "118   0000000000-  2015-06-05 21:15:54  Actualización datos\n",
              "117   0000000000-  2015-06-02 15:12:44  Actualización datos\n",
              "116   0000000000-  2015-08-24 13:28:45  Información general\n",
              "2052   0013469804  2015-06-18 15:54:34  Peticiones y quejas\n",
              "2053   0013469804  2015-06-18 16:00:29  Peticiones y quejas\n",
              "2054   0013469804  2015-06-18 15:38:01  Peticiones y quejas\n",
              "2057      0026673  2015-08-20 16:14:30   Agendamiento citas\n",
              "2055      0026673  2015-08-20 16:24:54         Procesos web\n",
              "2056      0026673  2015-08-20 14:21:45         Procesos web\n",
              "2064     01004355  2015-07-13 16:38:48  Actualización datos\n",
              "2065     01004355  2015-07-13 17:43:27   Agendamiento citas\n",
              "2071   0104854476  2015-07-09 15:22:54  Peticiones y quejas\n",
              "2070   0104854476  2015-07-29 14:29:49  Peticiones y quejas\n",
              "2069   0104854476  2015-07-09 14:54:14  Peticiones y quejas\n",
              "2077    017331920  2015-09-01 17:31:57  Actualización datos\n",
              "2078    017331920  2015-09-01 17:31:58  Actualización datos\n",
              "2079    017331920  2015-09-01 17:32:59  Actualización datos\n",
              "2082     02739663  2015-08-25 16:37:26   Agendamiento citas\n",
              "2083     02739663  2015-08-26 21:18:10  Actualización datos\n",
              "2085    029753808  2015-08-31 13:46:46  Actualización datos"
            ]
          },
          "metadata": {
            "tags": []
          },
          "execution_count": 8
        }
      ]
    },
    {
      "cell_type": "code",
      "metadata": {
        "colab": {
          "base_uri": "https://localhost:8080/",
          "height": 48
        },
        "id": "JI6vhBRIqoC3",
        "outputId": "d61218cd-bd16-44d9-8461-e8b02d425c06"
      },
      "source": [
        "df11 = df1[df1.duplicated(subset=['ID_Cuenta', 'Fecha_consulta'], keep=False)].sort_values('ID_Cuenta')\n",
        "df11.head(20) # No existen, en el datset 1, dos registros con el mismo ID de cuenta y la misma fecha de consulta."
      ],
      "execution_count": null,
      "outputs": [
        {
          "output_type": "execute_result",
          "data": {
            "text/html": [
              "<div>\n",
              "<style scoped>\n",
              "    .dataframe tbody tr th:only-of-type {\n",
              "        vertical-align: middle;\n",
              "    }\n",
              "\n",
              "    .dataframe tbody tr th {\n",
              "        vertical-align: top;\n",
              "    }\n",
              "\n",
              "    .dataframe thead th {\n",
              "        text-align: right;\n",
              "    }\n",
              "</style>\n",
              "<table border=\"1\" class=\"dataframe\">\n",
              "  <thead>\n",
              "    <tr style=\"text-align: right;\">\n",
              "      <th></th>\n",
              "      <th>ID_Cuenta</th>\n",
              "      <th>Fecha_consulta</th>\n",
              "      <th>Tipo_consulta</th>\n",
              "    </tr>\n",
              "  </thead>\n",
              "  <tbody>\n",
              "  </tbody>\n",
              "</table>\n",
              "</div>"
            ],
            "text/plain": [
              "Empty DataFrame\n",
              "Columns: [ID_Cuenta, Fecha_consulta, Tipo_consulta]\n",
              "Index: []"
            ]
          },
          "metadata": {
            "tags": []
          },
          "execution_count": 13
        }
      ]
    },
    {
      "cell_type": "code",
      "metadata": {
        "colab": {
          "base_uri": "https://localhost:8080/"
        },
        "id": "_DiBc11asMFh",
        "outputId": "086694cf-9623-4c6c-f0ec-e229eafb8564"
      },
      "source": [
        "df11.shape"
      ],
      "execution_count": null,
      "outputs": [
        {
          "output_type": "execute_result",
          "data": {
            "text/plain": [
              "(0, 3)"
            ]
          },
          "metadata": {
            "tags": []
          },
          "execution_count": 14
        }
      ]
    },
    {
      "cell_type": "code",
      "metadata": {
        "colab": {
          "base_uri": "https://localhost:8080/"
        },
        "id": "6W0w0qqSr2_s",
        "outputId": "e3e616b3-551c-4e5d-cf5e-efc0510feb4f"
      },
      "source": [
        "df11 = df1.drop_duplicates(subset=['ID_Cuenta', 'Fecha_consulta'], keep='first')\n",
        "df11.info()"
      ],
      "execution_count": null,
      "outputs": [
        {
          "output_type": "stream",
          "text": [
            "<class 'pandas.core.frame.DataFrame'>\n",
            "Int64Index: 641480 entries, 0 to 641479\n",
            "Data columns (total 3 columns):\n",
            " #   Column          Non-Null Count   Dtype \n",
            "---  ------          --------------   ----- \n",
            " 0   ID_Cuenta       641480 non-null  object\n",
            " 1   Fecha_consulta  641480 non-null  object\n",
            " 2   Tipo_consulta   641480 non-null  object\n",
            "dtypes: object(3)\n",
            "memory usage: 19.6+ MB\n"
          ],
          "name": "stdout"
        }
      ]
    },
    {
      "cell_type": "code",
      "metadata": {
        "colab": {
          "base_uri": "https://localhost:8080/"
        },
        "id": "BJ1xGuVfsa1I",
        "outputId": "3e6a4027-ed97-4cde-cf86-a5a614d013e6"
      },
      "source": [
        "df22 = df2[df2.duplicated('ID_Cuenta', keep=False)].sort_values('ID_Cuenta')\n",
        "print(df22) # Se observan \"inconsistencias\" en el dataset 2: Dos ID de cuenta idénticos con el mismo tipo de persona, pero diferentes departamentos."
      ],
      "execution_count": null,
      "outputs": [
        {
          "output_type": "stream",
          "text": [
            "          ID_Cuenta Tipo_persona       Departamento\n",
            "56      0000000000-      soltero  Santafé de Bogotá\n",
            "55      0000000000-      soltero          Santander\n",
            "680         0026673      soltero           Exterior\n",
            "681         0026673      soltero  Santafé de Bogotá\n",
            "749       05CR72949      soltero           Exterior\n",
            "...             ...          ...                ...\n",
            "337005     N6029769      soltero          Antioquia\n",
            "34              RUT      soltero           Casanare\n",
            "33              RUT      soltero  Santafé de Bogotá\n",
            "43                i      soltero  Santafé de Bogotá\n",
            "44                i      soltero    Valle del Cauca\n",
            "\n",
            "[32628 rows x 3 columns]\n"
          ],
          "name": "stdout"
        }
      ]
    },
    {
      "cell_type": "code",
      "metadata": {
        "colab": {
          "base_uri": "https://localhost:8080/"
        },
        "id": "RsXWgeyHuRrZ",
        "outputId": "ee4fccd3-3886-4f6d-ce4f-8822e809d16a"
      },
      "source": [
        "df22 = df2[df2.duplicated(subset=['ID_Cuenta', 'Tipo_persona'], keep=False)].sort_values('ID_Cuenta')\n",
        "print(df22)"
      ],
      "execution_count": null,
      "outputs": [
        {
          "output_type": "stream",
          "text": [
            "           ID_Cuenta Tipo_persona       Departamento\n",
            "55       0000000000-      soltero          Santander\n",
            "56       0000000000-      soltero  Santafé de Bogotá\n",
            "680          0026673      soltero           Exterior\n",
            "681          0026673      soltero  Santafé de Bogotá\n",
            "749        05CR72949      soltero           Exterior\n",
            "...              ...          ...                ...\n",
            "336974  HBO100507I78      soltero  Santafé de Bogotá\n",
            "34               RUT      soltero           Casanare\n",
            "33               RUT      soltero  Santafé de Bogotá\n",
            "43                 i      soltero  Santafé de Bogotá\n",
            "44                 i      soltero    Valle del Cauca\n",
            "\n",
            "[27771 rows x 3 columns]\n"
          ],
          "name": "stdout"
        }
      ]
    },
    {
      "cell_type": "code",
      "metadata": {
        "colab": {
          "base_uri": "https://localhost:8080/"
        },
        "id": "D77eTnhPuZy4",
        "outputId": "d2a38cfc-d308-427c-8c99-9c511b01ac3b"
      },
      "source": [
        "df2 = df2.drop_duplicates(subset=['ID_Cuenta', 'Tipo_persona'], keep='first')\n",
        "df2.info() # De dos o más registros que presenten esta inconsistencia,en el dataset2, se deja sólo el primero."
      ],
      "execution_count": null,
      "outputs": [
        {
          "output_type": "stream",
          "text": [
            "<class 'pandas.core.frame.DataFrame'>\n",
            "Int64Index: 316294 entries, 0 to 337050\n",
            "Data columns (total 3 columns):\n",
            " #   Column        Non-Null Count   Dtype \n",
            "---  ------        --------------   ----- \n",
            " 0   ID_Cuenta     316294 non-null  object\n",
            " 1   Tipo_persona  316294 non-null  object\n",
            " 2   Departamento  316294 non-null  object\n",
            "dtypes: object(3)\n",
            "memory usage: 9.7+ MB\n"
          ],
          "name": "stdout"
        }
      ]
    },
    {
      "cell_type": "code",
      "metadata": {
        "colab": {
          "base_uri": "https://localhost:8080/"
        },
        "id": "BnEOJa7Ouhjf",
        "outputId": "2e48bdb0-024e-484b-fd17-41ade3ade7cd"
      },
      "source": [
        "df22 = df2[df2.duplicated('ID_Cuenta', keep=False)].sort_values('ID_Cuenta')\n",
        "print(df22)"
      ],
      "execution_count": null,
      "outputs": [
        {
          "output_type": "stream",
          "text": [
            "           ID_Cuenta     Tipo_persona       Departamento\n",
            "778         07525076      unión libre  Santafé de Bogotá\n",
            "779         07525076         /casado.           Exterior\n",
            "7                  1           casado           Exterior\n",
            "11                 1  soltero-casado.          Antioquia\n",
            "961         10005709  soltero-casado.  SANTAFÉ DE BOGOTÁ\n",
            "...              ...              ...                ...\n",
            "120          ANONIMO         /casado.  SANTAFÉ DE BOGOTÁ\n",
            "136     ANONIMO 1314          soltero    Valle del Cauca\n",
            "135     ANONIMO 1314         /casado.  Santafé de Bogotá\n",
            "337005      N6029769          soltero          Antioquia\n",
            "337006      N6029769          no sabe  Santafé de Bogotá\n",
            "\n",
            "[4906 rows x 3 columns]\n"
          ],
          "name": "stdout"
        }
      ]
    },
    {
      "cell_type": "code",
      "metadata": {
        "colab": {
          "base_uri": "https://localhost:8080/"
        },
        "id": "5k2-sBheunCl",
        "outputId": "6db4cce3-821a-44cb-b13b-84c1c4cb8162"
      },
      "source": [
        "df22 = df2[df2.duplicated(subset=['ID_Cuenta', 'Tipo_persona'], keep=False)].sort_values('ID_Cuenta')\n",
        "print(df22)"
      ],
      "execution_count": null,
      "outputs": [
        {
          "output_type": "stream",
          "text": [
            "Empty DataFrame\n",
            "Columns: [ID_Cuenta, Tipo_persona, Departamento]\n",
            "Index: []\n"
          ],
          "name": "stdout"
        }
      ]
    },
    {
      "cell_type": "markdown",
      "metadata": {
        "id": "NiNSVIB99tkK"
      },
      "source": [
        "**Cuántos IDs que están en el dataset 1 están también en el dataset 2, y viceversa.**"
      ]
    },
    {
      "cell_type": "code",
      "metadata": {
        "colab": {
          "base_uri": "https://localhost:8080/"
        },
        "id": "PRPSoTYu_ur6",
        "outputId": "ad34f083-fa0c-4aea-bda7-401d505dbac7"
      },
      "source": [
        "df1['ID_Cuenta'].map(df2[\"ID_Cuenta\"].value_counts()).fillna(0).astype(int).value_counts()"
      ],
      "execution_count": null,
      "outputs": [
        {
          "output_type": "execute_result",
          "data": {
            "text/plain": [
              "1     561694\n",
              "2      65652\n",
              "0      11503\n",
              "3       1833\n",
              "13       330\n",
              "14       278\n",
              "4         95\n",
              "8         27\n",
              "6         27\n",
              "7         24\n",
              "5         17\n",
              "Name: ID_Cuenta, dtype: int64"
            ]
          },
          "metadata": {
            "tags": []
          },
          "execution_count": 41
        }
      ]
    },
    {
      "cell_type": "code",
      "metadata": {
        "colab": {
          "base_uri": "https://localhost:8080/"
        },
        "id": "U4RgNxd6OVAD",
        "outputId": "dc5b6e7e-537d-4cb1-bf8b-a6ba3a92f654"
      },
      "source": [
        "df1['ID_Cuenta'].map(df2[\"ID_Cuenta\"].value_counts()).isnull().sum()  # Hay 11.503 IDs de cuenta del dataset 1 que no están en el dataset 2."
      ],
      "execution_count": null,
      "outputs": [
        {
          "output_type": "execute_result",
          "data": {
            "text/plain": [
              "11503"
            ]
          },
          "metadata": {
            "tags": []
          },
          "execution_count": 46
        }
      ]
    },
    {
      "cell_type": "code",
      "metadata": {
        "colab": {
          "base_uri": "https://localhost:8080/"
        },
        "id": "kpmmzBjmRnTQ",
        "outputId": "a8a24ce2-da80-4e3d-a4ae-d1ca632109af"
      },
      "source": [
        "df2['ID_Cuenta'].map(df1[\"ID_Cuenta\"].value_counts()).fillna(0).astype(int).value_counts()"
      ],
      "execution_count": null,
      "outputs": [
        {
          "output_type": "execute_result",
          "data": {
            "text/plain": [
              "1     176431\n",
              "2      76294\n",
              "3      33967\n",
              "4      17167\n",
              "5       9313\n",
              "       ...  \n",
              "74         1\n",
              "62         1\n",
              "65         1\n",
              "72         1\n",
              "49         1\n",
              "Name: ID_Cuenta, Length: 61, dtype: int64"
            ]
          },
          "metadata": {
            "tags": []
          },
          "execution_count": 42
        }
      ]
    },
    {
      "cell_type": "code",
      "metadata": {
        "colab": {
          "base_uri": "https://localhost:8080/"
        },
        "id": "vSeIZ-oKSQXw",
        "outputId": "9ca08858-3b25-49d4-c3d0-bac82ceadb1c"
      },
      "source": [
        "df2['ID_Cuenta'].map(df1[\"ID_Cuenta\"].value_counts()).isnull().sum()  # Todos los IDs de cuenta que tiene el dataset 2 están en el dataset 1."
      ],
      "execution_count": null,
      "outputs": [
        {
          "output_type": "execute_result",
          "data": {
            "text/plain": [
              "0"
            ]
          },
          "metadata": {
            "tags": []
          },
          "execution_count": 47
        }
      ]
    },
    {
      "cell_type": "markdown",
      "metadata": {
        "id": "JF_E_cbeVUyH"
      },
      "source": [
        "# **4. Integrar los datasets**"
      ]
    },
    {
      "cell_type": "code",
      "metadata": {
        "id": "Ewi6ySloNlLp"
      },
      "source": [
        "df = pd.merge(df1, df2, on='ID_Cuenta') # how='inner' por defecto: Sólo las filas que contienen valores de ID_Cuenta que son comunes entre df1 y df2 permanecen al combinar los datos.\n",
        "#df = pd.merge(df1, df2, on='ID_Cuenta', how='left')"
      ],
      "execution_count": null,
      "outputs": []
    },
    {
      "cell_type": "code",
      "metadata": {
        "colab": {
          "base_uri": "https://localhost:8080/",
          "height": 202
        },
        "id": "vt5NVI8fNk6Y",
        "outputId": "cbaf7c47-0368-40ae-9846-d2ce9523f7f7"
      },
      "source": [
        "df.head()"
      ],
      "execution_count": null,
      "outputs": [
        {
          "output_type": "execute_result",
          "data": {
            "text/html": [
              "<div>\n",
              "<style scoped>\n",
              "    .dataframe tbody tr th:only-of-type {\n",
              "        vertical-align: middle;\n",
              "    }\n",
              "\n",
              "    .dataframe tbody tr th {\n",
              "        vertical-align: top;\n",
              "    }\n",
              "\n",
              "    .dataframe thead th {\n",
              "        text-align: right;\n",
              "    }\n",
              "</style>\n",
              "<table border=\"1\" class=\"dataframe\">\n",
              "  <thead>\n",
              "    <tr style=\"text-align: right;\">\n",
              "      <th></th>\n",
              "      <th>ID_Cuenta</th>\n",
              "      <th>Fecha_consulta</th>\n",
              "      <th>Tipo_consulta</th>\n",
              "      <th>Tipo_persona</th>\n",
              "      <th>Departamento</th>\n",
              "    </tr>\n",
              "  </thead>\n",
              "  <tbody>\n",
              "    <tr>\n",
              "      <th>0</th>\n",
              "      <td>340</td>\n",
              "      <td>2015-06-22 16:14:35</td>\n",
              "      <td>Actualización datos</td>\n",
              "      <td>soltero</td>\n",
              "      <td>Santafé de Bogotá</td>\n",
              "    </tr>\n",
              "    <tr>\n",
              "      <th>1</th>\n",
              "      <td>340</td>\n",
              "      <td>2015-06-22 16:37:02</td>\n",
              "      <td>Agendamiento citas</td>\n",
              "      <td>soltero</td>\n",
              "      <td>Santafé de Bogotá</td>\n",
              "    </tr>\n",
              "    <tr>\n",
              "      <th>2</th>\n",
              "      <td>340</td>\n",
              "      <td>2015-06-22 15:50:56</td>\n",
              "      <td>Agendamiento citas</td>\n",
              "      <td>soltero</td>\n",
              "      <td>Santafé de Bogotá</td>\n",
              "    </tr>\n",
              "    <tr>\n",
              "      <th>3</th>\n",
              "      <td>4d5c0e16-9bef-8334-687e-55f043e02c62</td>\n",
              "      <td>2015-09-09 14:35:37</td>\n",
              "      <td>Agendamiento citas</td>\n",
              "      <td>soltero</td>\n",
              "      <td>Santafé de Bogotá</td>\n",
              "    </tr>\n",
              "    <tr>\n",
              "      <th>4</th>\n",
              "      <td>66df1d0e-0d2c-1e44-aa3a-55b2a013640c</td>\n",
              "      <td>2015-07-24 20:36:26</td>\n",
              "      <td>Agendamiento citas</td>\n",
              "      <td>soltero</td>\n",
              "      <td>Santafé de Bogotá</td>\n",
              "    </tr>\n",
              "  </tbody>\n",
              "</table>\n",
              "</div>"
            ],
            "text/plain": [
              "                              ID_Cuenta  ...       Departamento\n",
              "0                                   340  ...  Santafé de Bogotá\n",
              "1                                   340  ...  Santafé de Bogotá\n",
              "2                                   340  ...  Santafé de Bogotá\n",
              "3  4d5c0e16-9bef-8334-687e-55f043e02c62  ...  Santafé de Bogotá\n",
              "4  66df1d0e-0d2c-1e44-aa3a-55b2a013640c  ...  Santafé de Bogotá\n",
              "\n",
              "[5 rows x 5 columns]"
            ]
          },
          "metadata": {
            "tags": []
          },
          "execution_count": 25
        }
      ]
    },
    {
      "cell_type": "code",
      "metadata": {
        "colab": {
          "base_uri": "https://localhost:8080/"
        },
        "id": "Id1UAyMaUHhK",
        "outputId": "0f3de109-ae5e-4898-f04d-735cb8c7f2ab"
      },
      "source": [
        "df.shape"
      ],
      "execution_count": null,
      "outputs": [
        {
          "output_type": "execute_result",
          "data": {
            "text/plain": [
              "(641336, 5)"
            ]
          },
          "metadata": {
            "tags": []
          },
          "execution_count": 26
        }
      ]
    },
    {
      "cell_type": "code",
      "metadata": {
        "colab": {
          "base_uri": "https://localhost:8080/"
        },
        "id": "-sCwT_U0UKzK",
        "outputId": "5ab5db73-1db1-45bb-da9b-e81e9d51ba49"
      },
      "source": [
        "df.info()"
      ],
      "execution_count": null,
      "outputs": [
        {
          "output_type": "stream",
          "text": [
            "<class 'pandas.core.frame.DataFrame'>\n",
            "Int64Index: 641336 entries, 0 to 641335\n",
            "Data columns (total 5 columns):\n",
            " #   Column          Non-Null Count   Dtype \n",
            "---  ------          --------------   ----- \n",
            " 0   ID_Cuenta       641336 non-null  object\n",
            " 1   Fecha_consulta  641336 non-null  object\n",
            " 2   Tipo_consulta   641336 non-null  object\n",
            " 3   Tipo_persona    641336 non-null  object\n",
            " 4   Departamento    641336 non-null  object\n",
            "dtypes: object(5)\n",
            "memory usage: 29.4+ MB\n"
          ],
          "name": "stdout"
        }
      ]
    },
    {
      "cell_type": "code",
      "metadata": {
        "colab": {
          "base_uri": "https://localhost:8080/"
        },
        "id": "IiGJzVXFUQ1Y",
        "outputId": "fca56c89-baf4-45ad-b00b-a7bd904f2697"
      },
      "source": [
        "df.isnull().values.any()\n",
        "#df.isna().sum()"
      ],
      "execution_count": null,
      "outputs": [
        {
          "output_type": "execute_result",
          "data": {
            "text/plain": [
              "False"
            ]
          },
          "metadata": {
            "tags": []
          },
          "execution_count": 28
        }
      ]
    },
    {
      "cell_type": "code",
      "metadata": {
        "colab": {
          "base_uri": "https://localhost:8080/"
        },
        "id": "Vwexk72UVDgl",
        "outputId": "8a0f7dc8-fdea-488f-8d78-bf890d8d7d05"
      },
      "source": [
        "print(df.duplicated().sum())"
      ],
      "execution_count": null,
      "outputs": [
        {
          "output_type": "stream",
          "text": [
            "0\n"
          ],
          "name": "stdout"
        }
      ]
    },
    {
      "cell_type": "code",
      "metadata": {
        "colab": {
          "base_uri": "https://localhost:8080/"
        },
        "id": "w1Ue_-dMK90C",
        "outputId": "79819a37-7a23-447f-cfd7-d3762e6dc9b4"
      },
      "source": [
        "print(df[df['ID_Cuenta'] == '340'])"
      ],
      "execution_count": null,
      "outputs": [
        {
          "output_type": "stream",
          "text": [
            "  ID_Cuenta       Fecha_consulta  ... Tipo_persona       Departamento\n",
            "0       340  2015-06-22 16:14:35  ...      soltero  Santafé de Bogotá\n",
            "1       340  2015-06-22 16:37:02  ...      soltero  Santafé de Bogotá\n",
            "2       340  2015-06-22 15:50:56  ...      soltero  Santafé de Bogotá\n",
            "\n",
            "[3 rows x 5 columns]\n"
          ],
          "name": "stdout"
        }
      ]
    },
    {
      "cell_type": "code",
      "metadata": {
        "colab": {
          "base_uri": "https://localhost:8080/"
        },
        "id": "reWEEr_WT54q",
        "outputId": "68a72365-c6ca-4935-e607-f45af84d28d0"
      },
      "source": [
        "print(df[df['ID_Cuenta'] == '0013469804'])"
      ],
      "execution_count": null,
      "outputs": [
        {
          "output_type": "stream",
          "text": [
            "       ID_Cuenta       Fecha_consulta  ... Tipo_persona       Departamento\n",
            "3321  0013469804  2015-06-18 15:54:34  ...      soltero  Santafé de Bogotá\n",
            "3322  0013469804  2015-06-18 16:00:29  ...      soltero  Santafé de Bogotá\n",
            "3323  0013469804  2015-06-18 15:38:01  ...      soltero  Santafé de Bogotá\n",
            "\n",
            "[3 rows x 5 columns]\n"
          ],
          "name": "stdout"
        }
      ]
    },
    {
      "cell_type": "code",
      "metadata": {
        "colab": {
          "base_uri": "https://localhost:8080/",
          "height": 662
        },
        "id": "Uxbr8plpTew9",
        "outputId": "a795aa2c-7900-4a7b-806b-842d4bc5c020"
      },
      "source": [
        "df['Fecha_consulta'] = pd.to_datetime(df['Fecha_consulta'])\n",
        "\n",
        "df3 = df.sort_values(['ID_Cuenta', 'Fecha_consulta'], ascending=[True, True])\n",
        "\n",
        "df3.head(20)"
      ],
      "execution_count": null,
      "outputs": [
        {
          "output_type": "execute_result",
          "data": {
            "text/html": [
              "<div>\n",
              "<style scoped>\n",
              "    .dataframe tbody tr th:only-of-type {\n",
              "        vertical-align: middle;\n",
              "    }\n",
              "\n",
              "    .dataframe tbody tr th {\n",
              "        vertical-align: top;\n",
              "    }\n",
              "\n",
              "    .dataframe thead th {\n",
              "        text-align: right;\n",
              "    }\n",
              "</style>\n",
              "<table border=\"1\" class=\"dataframe\">\n",
              "  <thead>\n",
              "    <tr style=\"text-align: right;\">\n",
              "      <th></th>\n",
              "      <th>ID_Cuenta</th>\n",
              "      <th>Fecha_consulta</th>\n",
              "      <th>Tipo_consulta</th>\n",
              "      <th>Tipo_persona</th>\n",
              "      <th>Departamento</th>\n",
              "    </tr>\n",
              "  </thead>\n",
              "  <tbody>\n",
              "    <tr>\n",
              "      <th>84</th>\n",
              "      <td>.</td>\n",
              "      <td>2015-06-23 16:17:08</td>\n",
              "      <td>Procesos web</td>\n",
              "      <td>soltero</td>\n",
              "      <td>Santafé de Bogotá</td>\n",
              "    </tr>\n",
              "    <tr>\n",
              "      <th>641254</th>\n",
              "      <td>. IDENTIFICACI</td>\n",
              "      <td>2015-09-07 18:58:29</td>\n",
              "      <td>Peticiones y quejas</td>\n",
              "      <td>soltero</td>\n",
              "      <td>Santafé de Bogotá</td>\n",
              "    </tr>\n",
              "    <tr>\n",
              "      <th>188908</th>\n",
              "      <td>.29326354</td>\n",
              "      <td>2015-08-26 23:06:00</td>\n",
              "      <td>Procesos web</td>\n",
              "      <td>soltero</td>\n",
              "      <td>Exterior</td>\n",
              "    </tr>\n",
              "    <tr>\n",
              "      <th>507623</th>\n",
              "      <td>.8311543</td>\n",
              "      <td>2015-09-29 13:01:19</td>\n",
              "      <td>Agendamiento citas</td>\n",
              "      <td>/casado.</td>\n",
              "      <td>Antioquia</td>\n",
              "    </tr>\n",
              "    <tr>\n",
              "      <th>113</th>\n",
              "      <td>00000</td>\n",
              "      <td>2015-09-05 18:21:09</td>\n",
              "      <td>Información general</td>\n",
              "      <td>soltero</td>\n",
              "      <td>Santafé de Bogotá</td>\n",
              "    </tr>\n",
              "    <tr>\n",
              "      <th>23</th>\n",
              "      <td>000000</td>\n",
              "      <td>2015-09-15 19:18:17</td>\n",
              "      <td>Peticiones y quejas</td>\n",
              "      <td>unión libre</td>\n",
              "      <td>Santafé de Bogotá</td>\n",
              "    </tr>\n",
              "    <tr>\n",
              "      <th>157</th>\n",
              "      <td>000000000</td>\n",
              "      <td>2015-06-03 18:39:21</td>\n",
              "      <td>Información general</td>\n",
              "      <td>/casado.</td>\n",
              "      <td>Santafé de Bogotá</td>\n",
              "    </tr>\n",
              "    <tr>\n",
              "      <th>141</th>\n",
              "      <td>0000000000-</td>\n",
              "      <td>2015-06-02 15:12:44</td>\n",
              "      <td>Actualización datos</td>\n",
              "      <td>soltero</td>\n",
              "      <td>Santander</td>\n",
              "    </tr>\n",
              "    <tr>\n",
              "      <th>142</th>\n",
              "      <td>0000000000-</td>\n",
              "      <td>2015-06-05 21:15:54</td>\n",
              "      <td>Actualización datos</td>\n",
              "      <td>soltero</td>\n",
              "      <td>Santander</td>\n",
              "    </tr>\n",
              "    <tr>\n",
              "      <th>140</th>\n",
              "      <td>0000000000-</td>\n",
              "      <td>2015-08-24 13:28:45</td>\n",
              "      <td>Información general</td>\n",
              "      <td>soltero</td>\n",
              "      <td>Santander</td>\n",
              "    </tr>\n",
              "    <tr>\n",
              "      <th>3320</th>\n",
              "      <td>00001054181443</td>\n",
              "      <td>2015-09-28 16:24:26</td>\n",
              "      <td>Actualización datos</td>\n",
              "      <td>soltero</td>\n",
              "      <td>Santafé de Bogotá</td>\n",
              "    </tr>\n",
              "    <tr>\n",
              "      <th>3323</th>\n",
              "      <td>0013469804</td>\n",
              "      <td>2015-06-18 15:38:01</td>\n",
              "      <td>Peticiones y quejas</td>\n",
              "      <td>soltero</td>\n",
              "      <td>Santafé de Bogotá</td>\n",
              "    </tr>\n",
              "    <tr>\n",
              "      <th>3321</th>\n",
              "      <td>0013469804</td>\n",
              "      <td>2015-06-18 15:54:34</td>\n",
              "      <td>Peticiones y quejas</td>\n",
              "      <td>soltero</td>\n",
              "      <td>Santafé de Bogotá</td>\n",
              "    </tr>\n",
              "    <tr>\n",
              "      <th>3322</th>\n",
              "      <td>0013469804</td>\n",
              "      <td>2015-06-18 16:00:29</td>\n",
              "      <td>Peticiones y quejas</td>\n",
              "      <td>soltero</td>\n",
              "      <td>Santafé de Bogotá</td>\n",
              "    </tr>\n",
              "    <tr>\n",
              "      <th>3325</th>\n",
              "      <td>0026673</td>\n",
              "      <td>2015-08-20 14:21:45</td>\n",
              "      <td>Procesos web</td>\n",
              "      <td>soltero</td>\n",
              "      <td>Exterior</td>\n",
              "    </tr>\n",
              "    <tr>\n",
              "      <th>3326</th>\n",
              "      <td>0026673</td>\n",
              "      <td>2015-08-20 16:14:30</td>\n",
              "      <td>Agendamiento citas</td>\n",
              "      <td>soltero</td>\n",
              "      <td>Exterior</td>\n",
              "    </tr>\n",
              "    <tr>\n",
              "      <th>3324</th>\n",
              "      <td>0026673</td>\n",
              "      <td>2015-08-20 16:24:54</td>\n",
              "      <td>Procesos web</td>\n",
              "      <td>soltero</td>\n",
              "      <td>Exterior</td>\n",
              "    </tr>\n",
              "    <tr>\n",
              "      <th>3327</th>\n",
              "      <td>004100179003</td>\n",
              "      <td>2015-08-25 21:11:13</td>\n",
              "      <td>Agendamiento citas</td>\n",
              "      <td>unión libre</td>\n",
              "      <td>Santafé de Bogotá</td>\n",
              "    </tr>\n",
              "    <tr>\n",
              "      <th>3328</th>\n",
              "      <td>0048925</td>\n",
              "      <td>2015-08-20 15:11:33</td>\n",
              "      <td>Actualización datos</td>\n",
              "      <td>unión libre</td>\n",
              "      <td>Santafé de Bogotá</td>\n",
              "    </tr>\n",
              "    <tr>\n",
              "      <th>3329</th>\n",
              "      <td>0054988949</td>\n",
              "      <td>2015-07-27 16:07:40</td>\n",
              "      <td>Actualización datos</td>\n",
              "      <td>soltero</td>\n",
              "      <td>Exterior</td>\n",
              "    </tr>\n",
              "  </tbody>\n",
              "</table>\n",
              "</div>"
            ],
            "text/plain": [
              "             ID_Cuenta      Fecha_consulta  ... Tipo_persona       Departamento\n",
              "84                   . 2015-06-23 16:17:08  ...      soltero  Santafé de Bogotá\n",
              "641254  . IDENTIFICACI 2015-09-07 18:58:29  ...      soltero  Santafé de Bogotá\n",
              "188908       .29326354 2015-08-26 23:06:00  ...      soltero           Exterior\n",
              "507623        .8311543 2015-09-29 13:01:19  ...     /casado.          Antioquia\n",
              "113              00000 2015-09-05 18:21:09  ...      soltero  Santafé de Bogotá\n",
              "23              000000 2015-09-15 19:18:17  ...  unión libre  Santafé de Bogotá\n",
              "157          000000000 2015-06-03 18:39:21  ...     /casado.  Santafé de Bogotá\n",
              "141        0000000000- 2015-06-02 15:12:44  ...      soltero          Santander\n",
              "142        0000000000- 2015-06-05 21:15:54  ...      soltero          Santander\n",
              "140        0000000000- 2015-08-24 13:28:45  ...      soltero          Santander\n",
              "3320    00001054181443 2015-09-28 16:24:26  ...      soltero  Santafé de Bogotá\n",
              "3323        0013469804 2015-06-18 15:38:01  ...      soltero  Santafé de Bogotá\n",
              "3321        0013469804 2015-06-18 15:54:34  ...      soltero  Santafé de Bogotá\n",
              "3322        0013469804 2015-06-18 16:00:29  ...      soltero  Santafé de Bogotá\n",
              "3325           0026673 2015-08-20 14:21:45  ...      soltero           Exterior\n",
              "3326           0026673 2015-08-20 16:14:30  ...      soltero           Exterior\n",
              "3324           0026673 2015-08-20 16:24:54  ...      soltero           Exterior\n",
              "3327      004100179003 2015-08-25 21:11:13  ...  unión libre  Santafé de Bogotá\n",
              "3328           0048925 2015-08-20 15:11:33  ...  unión libre  Santafé de Bogotá\n",
              "3329        0054988949 2015-07-27 16:07:40  ...      soltero           Exterior\n",
              "\n",
              "[20 rows x 5 columns]"
            ]
          },
          "metadata": {
            "tags": []
          },
          "execution_count": 32
        }
      ]
    },
    {
      "cell_type": "code",
      "metadata": {
        "colab": {
          "base_uri": "https://localhost:8080/",
          "height": 662
        },
        "id": "MCUszfW0V-rW",
        "outputId": "6f70f58b-1ce9-4818-ade5-81411a6a4474"
      },
      "source": [
        "df3.tail(20)"
      ],
      "execution_count": null,
      "outputs": [
        {
          "output_type": "execute_result",
          "data": {
            "text/html": [
              "<div>\n",
              "<style scoped>\n",
              "    .dataframe tbody tr th:only-of-type {\n",
              "        vertical-align: middle;\n",
              "    }\n",
              "\n",
              "    .dataframe tbody tr th {\n",
              "        vertical-align: top;\n",
              "    }\n",
              "\n",
              "    .dataframe thead th {\n",
              "        text-align: right;\n",
              "    }\n",
              "</style>\n",
              "<table border=\"1\" class=\"dataframe\">\n",
              "  <thead>\n",
              "    <tr style=\"text-align: right;\">\n",
              "      <th></th>\n",
              "      <th>ID_Cuenta</th>\n",
              "      <th>Fecha_consulta</th>\n",
              "      <th>Tipo_consulta</th>\n",
              "      <th>Tipo_persona</th>\n",
              "      <th>Departamento</th>\n",
              "    </tr>\n",
              "  </thead>\n",
              "  <tbody>\n",
              "    <tr>\n",
              "      <th>2223</th>\n",
              "      <td>b80a064e-3403-0384-c5f2-55c37ae763a8</td>\n",
              "      <td>2015-08-06 15:44:44</td>\n",
              "      <td>Procesos web</td>\n",
              "      <td>soltero</td>\n",
              "      <td>Santafé de Bogotá</td>\n",
              "    </tr>\n",
              "    <tr>\n",
              "      <th>156</th>\n",
              "      <td>b9fbc43f-2d92-81c7-d550-55b8258faa93</td>\n",
              "      <td>2015-07-29 01:01:48</td>\n",
              "      <td>Información general</td>\n",
              "      <td>soltero</td>\n",
              "      <td>Santafé de Bogotá</td>\n",
              "    </tr>\n",
              "    <tr>\n",
              "      <th>2131</th>\n",
              "      <td>d0c2cbe8-4f6f-a353-0186-55c38e4a0030</td>\n",
              "      <td>2015-08-12 17:50:32</td>\n",
              "      <td>Peticiones y quejas</td>\n",
              "      <td>soltero</td>\n",
              "      <td>Santafé de Bogotá</td>\n",
              "    </tr>\n",
              "    <tr>\n",
              "      <th>2129</th>\n",
              "      <td>d0c2cbe8-4f6f-a353-0186-55c38e4a0030</td>\n",
              "      <td>2015-08-12 20:36:14</td>\n",
              "      <td>Actualización datos</td>\n",
              "      <td>soltero</td>\n",
              "      <td>Santafé de Bogotá</td>\n",
              "    </tr>\n",
              "    <tr>\n",
              "      <th>2125</th>\n",
              "      <td>d0c2cbe8-4f6f-a353-0186-55c38e4a0030</td>\n",
              "      <td>2015-08-13 15:29:40</td>\n",
              "      <td>Procesos web</td>\n",
              "      <td>soltero</td>\n",
              "      <td>Santafé de Bogotá</td>\n",
              "    </tr>\n",
              "    <tr>\n",
              "      <th>2127</th>\n",
              "      <td>d0c2cbe8-4f6f-a353-0186-55c38e4a0030</td>\n",
              "      <td>2015-08-13 20:07:17</td>\n",
              "      <td>Procesos web</td>\n",
              "      <td>soltero</td>\n",
              "      <td>Santafé de Bogotá</td>\n",
              "    </tr>\n",
              "    <tr>\n",
              "      <th>2133</th>\n",
              "      <td>d0c2cbe8-4f6f-a353-0186-55c38e4a0030</td>\n",
              "      <td>2015-08-18 14:38:02</td>\n",
              "      <td>Peticiones y quejas</td>\n",
              "      <td>soltero</td>\n",
              "      <td>Santafé de Bogotá</td>\n",
              "    </tr>\n",
              "    <tr>\n",
              "      <th>2124</th>\n",
              "      <td>d0c2cbe8-4f6f-a353-0186-55c38e4a0030</td>\n",
              "      <td>2015-08-25 18:53:40</td>\n",
              "      <td>Procesos web</td>\n",
              "      <td>soltero</td>\n",
              "      <td>Santafé de Bogotá</td>\n",
              "    </tr>\n",
              "    <tr>\n",
              "      <th>2126</th>\n",
              "      <td>d0c2cbe8-4f6f-a353-0186-55c38e4a0030</td>\n",
              "      <td>2015-08-26 21:55:19</td>\n",
              "      <td>Agendamiento citas</td>\n",
              "      <td>soltero</td>\n",
              "      <td>Santafé de Bogotá</td>\n",
              "    </tr>\n",
              "    <tr>\n",
              "      <th>2132</th>\n",
              "      <td>d0c2cbe8-4f6f-a353-0186-55c38e4a0030</td>\n",
              "      <td>2015-08-27 14:21:11</td>\n",
              "      <td>Actualización datos</td>\n",
              "      <td>soltero</td>\n",
              "      <td>Santafé de Bogotá</td>\n",
              "    </tr>\n",
              "    <tr>\n",
              "      <th>2128</th>\n",
              "      <td>d0c2cbe8-4f6f-a353-0186-55c38e4a0030</td>\n",
              "      <td>2015-09-22 16:29:10</td>\n",
              "      <td>Peticiones y quejas</td>\n",
              "      <td>soltero</td>\n",
              "      <td>Santafé de Bogotá</td>\n",
              "    </tr>\n",
              "    <tr>\n",
              "      <th>2130</th>\n",
              "      <td>d0c2cbe8-4f6f-a353-0186-55c38e4a0030</td>\n",
              "      <td>2015-09-23 16:20:43</td>\n",
              "      <td>Información general</td>\n",
              "      <td>soltero</td>\n",
              "      <td>Santafé de Bogotá</td>\n",
              "    </tr>\n",
              "    <tr>\n",
              "      <th>167</th>\n",
              "      <td>d4b0b3f2-caa5-0de9-2f25-518282cc4f46</td>\n",
              "      <td>2015-06-04 15:57:21</td>\n",
              "      <td>Procesos web</td>\n",
              "      <td>unión libre</td>\n",
              "      <td>Santafé de Bogotá</td>\n",
              "    </tr>\n",
              "    <tr>\n",
              "      <th>172</th>\n",
              "      <td>e2637cb5-28ec-e7ae-8bcd-55e45b88ed79</td>\n",
              "      <td>2015-08-31 13:55:17</td>\n",
              "      <td>Peticiones y quejas</td>\n",
              "      <td>soltero</td>\n",
              "      <td>Exterior</td>\n",
              "    </tr>\n",
              "    <tr>\n",
              "      <th>21</th>\n",
              "      <td>e820f090-f4e7-eb8b-677c-55808c868b6f</td>\n",
              "      <td>2015-06-16 20:56:08</td>\n",
              "      <td>Procesos web</td>\n",
              "      <td>unión libre</td>\n",
              "      <td>Santafé de Bogotá</td>\n",
              "    </tr>\n",
              "    <tr>\n",
              "      <th>99</th>\n",
              "      <td>efd4502e-e69b-7d16-562f-5550eb20a923</td>\n",
              "      <td>2015-08-10 15:19:35</td>\n",
              "      <td>Procesos web</td>\n",
              "      <td>unión libre</td>\n",
              "      <td>Santafé de Bogotá</td>\n",
              "    </tr>\n",
              "    <tr>\n",
              "      <th>124</th>\n",
              "      <td>i</td>\n",
              "      <td>2015-06-22 21:55:18</td>\n",
              "      <td>Actualización datos</td>\n",
              "      <td>soltero</td>\n",
              "      <td>Santafé de Bogotá</td>\n",
              "    </tr>\n",
              "    <tr>\n",
              "      <th>123</th>\n",
              "      <td>i</td>\n",
              "      <td>2015-07-28 19:27:53</td>\n",
              "      <td>Peticiones y quejas</td>\n",
              "      <td>soltero</td>\n",
              "      <td>Santafé de Bogotá</td>\n",
              "    </tr>\n",
              "    <tr>\n",
              "      <th>641278</th>\n",
              "      <td>marina</td>\n",
              "      <td>2015-06-16 17:17:47</td>\n",
              "      <td>Información general</td>\n",
              "      <td>soltero</td>\n",
              "      <td>Caldas</td>\n",
              "    </tr>\n",
              "    <tr>\n",
              "      <th>144</th>\n",
              "      <td>s</td>\n",
              "      <td>2015-08-26 22:32:16</td>\n",
              "      <td>Actualización datos</td>\n",
              "      <td>soltero</td>\n",
              "      <td>Santafé de Bogotá</td>\n",
              "    </tr>\n",
              "  </tbody>\n",
              "</table>\n",
              "</div>"
            ],
            "text/plain": [
              "                                   ID_Cuenta  ...       Departamento\n",
              "2223    b80a064e-3403-0384-c5f2-55c37ae763a8  ...  Santafé de Bogotá\n",
              "156     b9fbc43f-2d92-81c7-d550-55b8258faa93  ...  Santafé de Bogotá\n",
              "2131    d0c2cbe8-4f6f-a353-0186-55c38e4a0030  ...  Santafé de Bogotá\n",
              "2129    d0c2cbe8-4f6f-a353-0186-55c38e4a0030  ...  Santafé de Bogotá\n",
              "2125    d0c2cbe8-4f6f-a353-0186-55c38e4a0030  ...  Santafé de Bogotá\n",
              "2127    d0c2cbe8-4f6f-a353-0186-55c38e4a0030  ...  Santafé de Bogotá\n",
              "2133    d0c2cbe8-4f6f-a353-0186-55c38e4a0030  ...  Santafé de Bogotá\n",
              "2124    d0c2cbe8-4f6f-a353-0186-55c38e4a0030  ...  Santafé de Bogotá\n",
              "2126    d0c2cbe8-4f6f-a353-0186-55c38e4a0030  ...  Santafé de Bogotá\n",
              "2132    d0c2cbe8-4f6f-a353-0186-55c38e4a0030  ...  Santafé de Bogotá\n",
              "2128    d0c2cbe8-4f6f-a353-0186-55c38e4a0030  ...  Santafé de Bogotá\n",
              "2130    d0c2cbe8-4f6f-a353-0186-55c38e4a0030  ...  Santafé de Bogotá\n",
              "167     d4b0b3f2-caa5-0de9-2f25-518282cc4f46  ...  Santafé de Bogotá\n",
              "172     e2637cb5-28ec-e7ae-8bcd-55e45b88ed79  ...           Exterior\n",
              "21      e820f090-f4e7-eb8b-677c-55808c868b6f  ...  Santafé de Bogotá\n",
              "99      efd4502e-e69b-7d16-562f-5550eb20a923  ...  Santafé de Bogotá\n",
              "124                                        i  ...  Santafé de Bogotá\n",
              "123                                        i  ...  Santafé de Bogotá\n",
              "641278                                marina  ...             Caldas\n",
              "144                                        s  ...  Santafé de Bogotá\n",
              "\n",
              "[20 rows x 5 columns]"
            ]
          },
          "metadata": {
            "tags": []
          },
          "execution_count": 33
        }
      ]
    },
    {
      "cell_type": "code",
      "metadata": {
        "colab": {
          "base_uri": "https://localhost:8080/"
        },
        "id": "mPer-XvCOAWH",
        "outputId": "6b65c826-191b-446d-bc0a-84428edcc58c"
      },
      "source": [
        "dg = df.groupby(['Tipo_persona'])['ID_Cuenta'].count() \n",
        "dg"
      ],
      "execution_count": null,
      "outputs": [
        {
          "output_type": "execute_result",
          "data": {
            "text/plain": [
              "Tipo_persona\n",
              "/casado.            21526\n",
              "carlos                 96\n",
              "casado               7173\n",
              "no dijo              6930\n",
              "no sabe             22060\n",
              "soltero            448005\n",
              "soltero-casado.      7148\n",
              "unión libre        128398\n",
              "Name: ID_Cuenta, dtype: int64"
            ]
          },
          "metadata": {
            "tags": []
          },
          "execution_count": 34
        }
      ]
    },
    {
      "cell_type": "code",
      "metadata": {
        "id": "pdyXWt27Rv5B"
      },
      "source": [
        "df.drop(df[df['Tipo_persona'] == 'carlos'].index, inplace = True)"
      ],
      "execution_count": null,
      "outputs": []
    },
    {
      "cell_type": "code",
      "metadata": {
        "id": "ZQWAsaxUk4qL"
      },
      "source": [
        "df['Tipo_persona']=df['Tipo_persona'].replace({'/casado.':'casado'})"
      ],
      "execution_count": null,
      "outputs": []
    },
    {
      "cell_type": "code",
      "metadata": {
        "colab": {
          "base_uri": "https://localhost:8080/"
        },
        "id": "sGmAZ2nvThl9",
        "outputId": "6cf66dcd-be60-490a-c8df-641e586c4396"
      },
      "source": [
        "dg = df.groupby(['Tipo_persona'])['ID_Cuenta'].count() \n",
        "dg"
      ],
      "execution_count": null,
      "outputs": [
        {
          "output_type": "execute_result",
          "data": {
            "text/plain": [
              "Tipo_persona\n",
              "casado              28699\n",
              "no dijo              6930\n",
              "no sabe             22060\n",
              "soltero            448005\n",
              "soltero-casado.      7148\n",
              "unión libre        128398\n",
              "Name: ID_Cuenta, dtype: int64"
            ]
          },
          "metadata": {
            "tags": []
          },
          "execution_count": 77
        }
      ]
    },
    {
      "cell_type": "code",
      "metadata": {
        "colab": {
          "base_uri": "https://localhost:8080/"
        },
        "id": "-YPbdScGjqXb",
        "outputId": "172042a0-b9a3-42d9-e27e-2bdaa1c57b32"
      },
      "source": [
        "dh = df.groupby(['Tipo_consulta'])['ID_Cuenta'].count() \n",
        "dh"
      ],
      "execution_count": null,
      "outputs": [
        {
          "output_type": "execute_result",
          "data": {
            "text/plain": [
              "Tipo_consulta\n",
              "Actualización datos    110487\n",
              "Agendamiento citas     166874\n",
              "Información general     17985\n",
              "Peticiones y quejas    100713\n",
              "Procesos web           245181\n",
              "Name: ID_Cuenta, dtype: int64"
            ]
          },
          "metadata": {
            "tags": []
          },
          "execution_count": 38
        }
      ]
    },
    {
      "cell_type": "markdown",
      "metadata": {
        "id": "hSGe7au0TpoM"
      },
      "source": [
        "a) ¿Existe alguna relación entre el tipo de persona y el tipo de consulta realizada?"
      ]
    },
    {
      "cell_type": "code",
      "metadata": {
        "colab": {
          "base_uri": "https://localhost:8080/",
          "height": 202
        },
        "id": "8p8Jd-53tvFr",
        "outputId": "4a6ad35f-5e83-4d40-c0f4-587936615c54"
      },
      "source": [
        "df3 = df[[i for i in df.columns if i not in ('ID_Cuenta', 'Fecha_consulta')]]\n",
        "\n",
        "df3.head()"
      ],
      "execution_count": null,
      "outputs": [
        {
          "output_type": "execute_result",
          "data": {
            "text/html": [
              "<div>\n",
              "<style scoped>\n",
              "    .dataframe tbody tr th:only-of-type {\n",
              "        vertical-align: middle;\n",
              "    }\n",
              "\n",
              "    .dataframe tbody tr th {\n",
              "        vertical-align: top;\n",
              "    }\n",
              "\n",
              "    .dataframe thead th {\n",
              "        text-align: right;\n",
              "    }\n",
              "</style>\n",
              "<table border=\"1\" class=\"dataframe\">\n",
              "  <thead>\n",
              "    <tr style=\"text-align: right;\">\n",
              "      <th></th>\n",
              "      <th>Tipo_consulta</th>\n",
              "      <th>Tipo_persona</th>\n",
              "      <th>Departamento</th>\n",
              "    </tr>\n",
              "  </thead>\n",
              "  <tbody>\n",
              "    <tr>\n",
              "      <th>0</th>\n",
              "      <td>Actualización datos</td>\n",
              "      <td>soltero</td>\n",
              "      <td>Santafé de Bogotá</td>\n",
              "    </tr>\n",
              "    <tr>\n",
              "      <th>1</th>\n",
              "      <td>Agendamiento citas</td>\n",
              "      <td>soltero</td>\n",
              "      <td>Santafé de Bogotá</td>\n",
              "    </tr>\n",
              "    <tr>\n",
              "      <th>2</th>\n",
              "      <td>Agendamiento citas</td>\n",
              "      <td>soltero</td>\n",
              "      <td>Santafé de Bogotá</td>\n",
              "    </tr>\n",
              "    <tr>\n",
              "      <th>3</th>\n",
              "      <td>Agendamiento citas</td>\n",
              "      <td>soltero</td>\n",
              "      <td>Santafé de Bogotá</td>\n",
              "    </tr>\n",
              "    <tr>\n",
              "      <th>4</th>\n",
              "      <td>Agendamiento citas</td>\n",
              "      <td>soltero</td>\n",
              "      <td>Santafé de Bogotá</td>\n",
              "    </tr>\n",
              "  </tbody>\n",
              "</table>\n",
              "</div>"
            ],
            "text/plain": [
              "         Tipo_consulta Tipo_persona       Departamento\n",
              "0  Actualización datos      soltero  Santafé de Bogotá\n",
              "1   Agendamiento citas      soltero  Santafé de Bogotá\n",
              "2   Agendamiento citas      soltero  Santafé de Bogotá\n",
              "3   Agendamiento citas      soltero  Santafé de Bogotá\n",
              "4   Agendamiento citas      soltero  Santafé de Bogotá"
            ]
          },
          "metadata": {
            "tags": []
          },
          "execution_count": 39
        }
      ]
    },
    {
      "cell_type": "code",
      "metadata": {
        "id": "HtbtHHF27Wb7"
      },
      "source": [
        "label = preprocessing.LabelEncoder()\n",
        "df3_encoded = pd.DataFrame() \n",
        "\n",
        "for i in df3.columns :\n",
        "  df3_encoded[i]=label.fit_transform(df3[i])"
      ],
      "execution_count": null,
      "outputs": []
    },
    {
      "cell_type": "code",
      "metadata": {
        "id": "BKjMvlvW7qwS",
        "colab": {
          "base_uri": "https://localhost:8080/",
          "height": 202
        },
        "outputId": "bb919a4d-3ba9-4a81-b25c-05b0df144c9a"
      },
      "source": [
        "df3_encoded.head()"
      ],
      "execution_count": null,
      "outputs": [
        {
          "output_type": "execute_result",
          "data": {
            "text/html": [
              "<div>\n",
              "<style scoped>\n",
              "    .dataframe tbody tr th:only-of-type {\n",
              "        vertical-align: middle;\n",
              "    }\n",
              "\n",
              "    .dataframe tbody tr th {\n",
              "        vertical-align: top;\n",
              "    }\n",
              "\n",
              "    .dataframe thead th {\n",
              "        text-align: right;\n",
              "    }\n",
              "</style>\n",
              "<table border=\"1\" class=\"dataframe\">\n",
              "  <thead>\n",
              "    <tr style=\"text-align: right;\">\n",
              "      <th></th>\n",
              "      <th>Tipo_consulta</th>\n",
              "      <th>Tipo_persona</th>\n",
              "      <th>Departamento</th>\n",
              "    </tr>\n",
              "  </thead>\n",
              "  <tbody>\n",
              "    <tr>\n",
              "      <th>0</th>\n",
              "      <td>0</td>\n",
              "      <td>3</td>\n",
              "      <td>56</td>\n",
              "    </tr>\n",
              "    <tr>\n",
              "      <th>1</th>\n",
              "      <td>1</td>\n",
              "      <td>3</td>\n",
              "      <td>56</td>\n",
              "    </tr>\n",
              "    <tr>\n",
              "      <th>2</th>\n",
              "      <td>1</td>\n",
              "      <td>3</td>\n",
              "      <td>56</td>\n",
              "    </tr>\n",
              "    <tr>\n",
              "      <th>3</th>\n",
              "      <td>1</td>\n",
              "      <td>3</td>\n",
              "      <td>56</td>\n",
              "    </tr>\n",
              "    <tr>\n",
              "      <th>4</th>\n",
              "      <td>1</td>\n",
              "      <td>3</td>\n",
              "      <td>56</td>\n",
              "    </tr>\n",
              "  </tbody>\n",
              "</table>\n",
              "</div>"
            ],
            "text/plain": [
              "   Tipo_consulta  Tipo_persona  Departamento\n",
              "0              0             3            56\n",
              "1              1             3            56\n",
              "2              1             3            56\n",
              "3              1             3            56\n",
              "4              1             3            56"
            ]
          },
          "metadata": {
            "tags": []
          },
          "execution_count": 41
        }
      ]
    },
    {
      "cell_type": "code",
      "metadata": {
        "id": "dnVtFXFt7v8S"
      },
      "source": [
        "def cramers_V(var1,var2):\n",
        "  crosstab = np.array(pd.crosstab(var1,var2, rownames=None, colnames=None)) # Cross table building\n",
        "  stat = chi2_contingency(crosstab)[0] # Keeping of the test statistic of the Chi2 test\n",
        "  obs = np.sum(crosstab) # Number of observations\n",
        "  mini = min(crosstab.shape)-1 # Take the minimum value between the columns and the rows of the cross table\n",
        "  return (stat/(obs*mini))"
      ],
      "execution_count": null,
      "outputs": []
    },
    {
      "cell_type": "code",
      "metadata": {
        "id": "TjTv_I0573yf",
        "colab": {
          "base_uri": "https://localhost:8080/",
          "height": 141
        },
        "outputId": "20428f7f-78ba-4968-87c0-fe3dc2dcc788"
      },
      "source": [
        "rows= []\n",
        "\n",
        "for var1 in df3_encoded:\n",
        "  col = []\n",
        "  for var2 in df3_encoded :\n",
        "    cramers = cramers_V(df3_encoded[var1], df3_encoded[var2]) # Cramer's V test\n",
        "    col.append(round(cramers,2)) # Keeping of the rounded value of the Cramer's V  \n",
        "  rows.append(col)\n",
        "  \n",
        "cramers_results = np.array(rows)\n",
        "df4 = pd.DataFrame(cramers_results, columns = df3_encoded.columns, index = df3_encoded.columns)\n",
        "\n",
        "df4"
      ],
      "execution_count": null,
      "outputs": [
        {
          "output_type": "execute_result",
          "data": {
            "text/html": [
              "<div>\n",
              "<style scoped>\n",
              "    .dataframe tbody tr th:only-of-type {\n",
              "        vertical-align: middle;\n",
              "    }\n",
              "\n",
              "    .dataframe tbody tr th {\n",
              "        vertical-align: top;\n",
              "    }\n",
              "\n",
              "    .dataframe thead th {\n",
              "        text-align: right;\n",
              "    }\n",
              "</style>\n",
              "<table border=\"1\" class=\"dataframe\">\n",
              "  <thead>\n",
              "    <tr style=\"text-align: right;\">\n",
              "      <th></th>\n",
              "      <th>Tipo_consulta</th>\n",
              "      <th>Tipo_persona</th>\n",
              "      <th>Departamento</th>\n",
              "    </tr>\n",
              "  </thead>\n",
              "  <tbody>\n",
              "    <tr>\n",
              "      <th>Tipo_consulta</th>\n",
              "      <td>1.00</td>\n",
              "      <td>0.01</td>\n",
              "      <td>0.01</td>\n",
              "    </tr>\n",
              "    <tr>\n",
              "      <th>Tipo_persona</th>\n",
              "      <td>0.01</td>\n",
              "      <td>1.00</td>\n",
              "      <td>0.00</td>\n",
              "    </tr>\n",
              "    <tr>\n",
              "      <th>Departamento</th>\n",
              "      <td>0.01</td>\n",
              "      <td>0.00</td>\n",
              "      <td>1.00</td>\n",
              "    </tr>\n",
              "  </tbody>\n",
              "</table>\n",
              "</div>"
            ],
            "text/plain": [
              "               Tipo_consulta  Tipo_persona  Departamento\n",
              "Tipo_consulta           1.00          0.01          0.01\n",
              "Tipo_persona            0.01          1.00          0.00\n",
              "Departamento            0.01          0.00          1.00"
            ]
          },
          "metadata": {
            "tags": []
          },
          "execution_count": 43
        }
      ]
    },
    {
      "cell_type": "code",
      "metadata": {
        "id": "7uGf2RNI8fGt",
        "colab": {
          "base_uri": "https://localhost:8080/",
          "height": 284
        },
        "outputId": "db0f8b0c-54c5-4926-91bd-69ab66ba8f82"
      },
      "source": [
        "mask = np.zeros_like(df4, dtype=np.bool)\n",
        "mask[np.triu_indices_from(mask)] = True\n",
        "\n",
        "with sns.axes_style(\"white\"):\n",
        "  ax = sns.heatmap(df4, mask=mask,vmin=0., vmax=1, square=True)\n",
        "\n",
        "plt.show()"
      ],
      "execution_count": null,
      "outputs": [
        {
          "output_type": "display_data",
          "data": {
            "image/png": "[encoded data removed]",
            "text/plain": [
              "<Figure size 432x288 with 2 Axes>"
            ]
          },
          "metadata": {
            "tags": []
          }
        }
      ]
    },
    {
      "cell_type": "code",
      "metadata": {
        "id": "oXg04Sq_XuIC",
        "colab": {
          "base_uri": "https://localhost:8080/"
        },
        "outputId": "a83b50d0-69c4-4743-e5cb-d2a8cd74d3c9"
      },
      "source": [
        "corrMatrix = df3_encoded.corr()\n",
        "\n",
        "print(corrMatrix)"
      ],
      "execution_count": null,
      "outputs": [
        {
          "output_type": "stream",
          "text": [
            "               Tipo_consulta  Tipo_persona  Departamento\n",
            "Tipo_consulta       1.000000      0.041380     -0.075506\n",
            "Tipo_persona        0.041380      1.000000      0.030239\n",
            "Departamento       -0.075506      0.030239      1.000000\n"
          ],
          "name": "stdout"
        }
      ]
    },
    {
      "cell_type": "code",
      "metadata": {
        "id": "FFhyZJD89NfF",
        "colab": {
          "base_uri": "https://localhost:8080/",
          "height": 347
        },
        "outputId": "c9c51027-b0e3-4fe8-b0d5-9a8a2fbb52d2"
      },
      "source": [
        "plt.figure(figsize = (5,5))\n",
        "\n",
        "corrMatrix = df3_encoded.corr()\n",
        "sns.heatmap(corrMatrix, annot=True, linewidths=.5)"
      ],
      "execution_count": null,
      "outputs": [
        {
          "output_type": "execute_result",
          "data": {
            "text/plain": [
              "<matplotlib.axes._subplots.AxesSubplot at 0x7f2c82c1fb90>"
            ]
          },
          "metadata": {
            "tags": []
          },
          "execution_count": 46
        },
        {
          "output_type": "display_data",
          "data": {
            "image/png": "[encoded data removed]",
            "text/plain": [
              "<Figure size 360x360 with 2 Axes>"
            ]
          },
          "metadata": {
            "tags": [],
            "needs_background": "light"
          }
        }
      ]
    },
    {
      "cell_type": "markdown",
      "metadata": {
        "id": "RVkQq7jpZG9B"
      },
      "source": [
        "¿Cuál es el perfil del tipo de consulta de cada departamento? ¿Existen grupos de departamentos con necesidades similares de información?"
      ]
    },
    {
      "cell_type": "code",
      "metadata": {
        "id": "M27_tFX0JcmF",
        "colab": {
          "base_uri": "https://localhost:8080/"
        },
        "outputId": "13c6c84b-a744-492f-fe33-b6c666524247"
      },
      "source": [
        "#Se imprimen los valores únicos de la columna 'Departamento', en orden alfabético, con el fin de observar si hay valores duplicados\n",
        "my_arr = np.sort(df['Departamento'].unique())\n",
        "\n",
        "for val in my_arr:\n",
        "    print(val)"
      ],
      "execution_count": null,
      "outputs": [
        {
          "output_type": "stream",
          "text": [
            "AMAZONAS\n",
            "ANTIOQUIA\n",
            "ARAUCA\n",
            "ATLÁNTICO\n",
            "Amazonas\n",
            "Antioquia\n",
            "Arauca\n",
            "Atlántico\n",
            "BOLÍVAR\n",
            "BOYACÁ\n",
            "Bolívar\n",
            "Boyacá\n",
            "CALDAS\n",
            "CAQUETÁ\n",
            "CASANARE\n",
            "CAUCA\n",
            "CESAR\n",
            "CHOCÓ\n",
            "CUNDINAMARCA\n",
            "Caldas\n",
            "Caquetá\n",
            "Casanare\n",
            "Cauca\n",
            "Cesar\n",
            "Chocó\n",
            "Cundinamarca\n",
            "CÓRDOBA\n",
            "Córdoba\n",
            "EXTERIOR\n",
            "Exterior\n",
            "GUAVIARE\n",
            "Guainía\n",
            "Guaviare\n",
            "HUILA\n",
            "Huila\n",
            "LA GUAJIRA\n",
            "La Guajira\n",
            "MAGDALENA\n",
            "META\n",
            "Magdalena\n",
            "Meta\n",
            "NARIÑO\n",
            "NORTE DE SANTANDER\n",
            "Nariño\n",
            "Norte de Santander\n",
            "PUTUMAYO\n",
            "Putumayo\n",
            "QUINDÍO\n",
            "Quindío\n",
            "RISARALDA\n",
            "Risaralda\n",
            "SAN ANDRÉS Y PROVIDENCIA\n",
            "SANTAFÉ DE BOGOTÁ\n",
            "SANTANDER\n",
            "SUCRE\n",
            "San Andrés y Providencia\n",
            "Santafé de Bogotá\n",
            "Santander\n",
            "Sucre\n",
            "TOLIMA\n",
            "Tolima\n",
            "VALLE DEL CAUCA\n",
            "VAUPÉS\n",
            "Valle del Cauca\n",
            "Vaupés\n",
            "Vichada\n"
          ],
          "name": "stdout"
        }
      ]
    },
    {
      "cell_type": "code",
      "metadata": {
        "id": "KM9Dw7MQKPYy",
        "colab": {
          "base_uri": "https://localhost:8080/"
        },
        "outputId": "5e49583b-12c1-4ea6-9097-e43915fadfaa"
      },
      "source": [
        "#Se llevan a mayúscula todos los departamentos, y se determinan los valores únicos\n",
        "df['Departamento'] = df['Departamento'].str.upper()\n",
        "df.Departamento.unique()"
      ],
      "execution_count": null,
      "outputs": [
        {
          "output_type": "execute_result",
          "data": {
            "text/plain": [
              "array(['SANTAFÉ DE BOGOTÁ', 'EXTERIOR', 'ANTIOQUIA', 'CESAR', 'META',\n",
              "       'ATLÁNTICO', 'CUNDINAMARCA', 'VALLE DEL CAUCA', 'RISARALDA',\n",
              "       'SANTANDER', 'ARAUCA', 'QUINDÍO', 'BOLÍVAR', 'NARIÑO', 'HUILA',\n",
              "       'CALDAS', 'CASANARE', 'CAUCA', 'TOLIMA', 'PUTUMAYO',\n",
              "       'NORTE DE SANTANDER', 'MAGDALENA', 'AMAZONAS', 'LA GUAJIRA',\n",
              "       'SUCRE', 'BOYACÁ', 'CHOCÓ', 'CÓRDOBA', 'CAQUETÁ', 'GUAINÍA',\n",
              "       'GUAVIARE', 'VAUPÉS', 'VICHADA', 'SAN ANDRÉS Y PROVIDENCIA'],\n",
              "      dtype=object)"
            ]
          },
          "metadata": {
            "tags": []
          },
          "execution_count": 11
        }
      ]
    },
    {
      "cell_type": "code",
      "metadata": {
        "id": "5VqscoFoKaab",
        "colab": {
          "base_uri": "https://localhost:8080/"
        },
        "outputId": "ad54f0cc-f492-4532-b99e-8e5b8588cf81"
      },
      "source": [
        "#Se imprimen los valores únicos de la columna 'Departamento', en orden alfabético, con el fin de observar si hay valores duplicados\n",
        "my_arr = np.sort(df['Departamento'].unique())\n",
        "\n",
        "for val in my_arr:\n",
        "    print(val)"
      ],
      "execution_count": null,
      "outputs": [
        {
          "output_type": "stream",
          "text": [
            "AMAZONAS\n",
            "ANTIOQUIA\n",
            "ARAUCA\n",
            "ATLÁNTICO\n",
            "BOLÍVAR\n",
            "BOYACÁ\n",
            "CALDAS\n",
            "CAQUETÁ\n",
            "CASANARE\n",
            "CAUCA\n",
            "CESAR\n",
            "CHOCÓ\n",
            "CUNDINAMARCA\n",
            "CÓRDOBA\n",
            "EXTERIOR\n",
            "GUAINÍA\n",
            "GUAVIARE\n",
            "HUILA\n",
            "LA GUAJIRA\n",
            "MAGDALENA\n",
            "META\n",
            "NARIÑO\n",
            "NORTE DE SANTANDER\n",
            "PUTUMAYO\n",
            "QUINDÍO\n",
            "RISARALDA\n",
            "SAN ANDRÉS Y PROVIDENCIA\n",
            "SANTAFÉ DE BOGOTÁ\n",
            "SANTANDER\n",
            "SUCRE\n",
            "TOLIMA\n",
            "VALLE DEL CAUCA\n",
            "VAUPÉS\n",
            "VICHADA\n"
          ],
          "name": "stdout"
        }
      ]
    },
    {
      "cell_type": "code",
      "metadata": {
        "id": "TnSIZyWEoKsS"
      },
      "source": [
        "df_grouped = df.groupby(['Departamento', 'Tipo_consulta'], as_index=False).size()"
      ],
      "execution_count": null,
      "outputs": []
    },
    {
      "cell_type": "code",
      "metadata": {
        "id": "8G74TC54c1mF"
      },
      "source": [
        "df_grouped.rename(columns={'size':'Cantidad_consultas'}, inplace=True)"
      ],
      "execution_count": null,
      "outputs": []
    },
    {
      "cell_type": "code",
      "metadata": {
        "id": "F14PBQaaTck9",
        "colab": {
          "base_uri": "https://localhost:8080/",
          "height": 414
        },
        "outputId": "9295319b-012d-49ef-a969-e24da77239a9"
      },
      "source": [
        "df_grouped"
      ],
      "execution_count": null,
      "outputs": [
        {
          "output_type": "execute_result",
          "data": {
            "text/html": [
              "<div>\n",
              "<style scoped>\n",
              "    .dataframe tbody tr th:only-of-type {\n",
              "        vertical-align: middle;\n",
              "    }\n",
              "\n",
              "    .dataframe tbody tr th {\n",
              "        vertical-align: top;\n",
              "    }\n",
              "\n",
              "    .dataframe thead th {\n",
              "        text-align: right;\n",
              "    }\n",
              "</style>\n",
              "<table border=\"1\" class=\"dataframe\">\n",
              "  <thead>\n",
              "    <tr style=\"text-align: right;\">\n",
              "      <th></th>\n",
              "      <th>Departamento</th>\n",
              "      <th>Tipo_consulta</th>\n",
              "      <th>Cantidad_consultas</th>\n",
              "    </tr>\n",
              "  </thead>\n",
              "  <tbody>\n",
              "    <tr>\n",
              "      <th>0</th>\n",
              "      <td>AMAZONAS</td>\n",
              "      <td>Actualización datos</td>\n",
              "      <td>4</td>\n",
              "    </tr>\n",
              "    <tr>\n",
              "      <th>1</th>\n",
              "      <td>AMAZONAS</td>\n",
              "      <td>Agendamiento citas</td>\n",
              "      <td>8</td>\n",
              "    </tr>\n",
              "    <tr>\n",
              "      <th>2</th>\n",
              "      <td>AMAZONAS</td>\n",
              "      <td>Información general</td>\n",
              "      <td>2</td>\n",
              "    </tr>\n",
              "    <tr>\n",
              "      <th>3</th>\n",
              "      <td>AMAZONAS</td>\n",
              "      <td>Peticiones y quejas</td>\n",
              "      <td>11</td>\n",
              "    </tr>\n",
              "    <tr>\n",
              "      <th>4</th>\n",
              "      <td>AMAZONAS</td>\n",
              "      <td>Procesos web</td>\n",
              "      <td>25</td>\n",
              "    </tr>\n",
              "    <tr>\n",
              "      <th>...</th>\n",
              "      <td>...</td>\n",
              "      <td>...</td>\n",
              "      <td>...</td>\n",
              "    </tr>\n",
              "    <tr>\n",
              "      <th>162</th>\n",
              "      <td>VAUPÉS</td>\n",
              "      <td>Procesos web</td>\n",
              "      <td>12</td>\n",
              "    </tr>\n",
              "    <tr>\n",
              "      <th>163</th>\n",
              "      <td>VICHADA</td>\n",
              "      <td>Actualización datos</td>\n",
              "      <td>10</td>\n",
              "    </tr>\n",
              "    <tr>\n",
              "      <th>164</th>\n",
              "      <td>VICHADA</td>\n",
              "      <td>Agendamiento citas</td>\n",
              "      <td>1</td>\n",
              "    </tr>\n",
              "    <tr>\n",
              "      <th>165</th>\n",
              "      <td>VICHADA</td>\n",
              "      <td>Peticiones y quejas</td>\n",
              "      <td>8</td>\n",
              "    </tr>\n",
              "    <tr>\n",
              "      <th>166</th>\n",
              "      <td>VICHADA</td>\n",
              "      <td>Procesos web</td>\n",
              "      <td>19</td>\n",
              "    </tr>\n",
              "  </tbody>\n",
              "</table>\n",
              "<p>167 rows × 3 columns</p>\n",
              "</div>"
            ],
            "text/plain": [
              "    Departamento        Tipo_consulta  Cantidad_consultas\n",
              "0       AMAZONAS  Actualización datos                   4\n",
              "1       AMAZONAS   Agendamiento citas                   8\n",
              "2       AMAZONAS  Información general                   2\n",
              "3       AMAZONAS  Peticiones y quejas                  11\n",
              "4       AMAZONAS         Procesos web                  25\n",
              "..           ...                  ...                 ...\n",
              "162       VAUPÉS         Procesos web                  12\n",
              "163      VICHADA  Actualización datos                  10\n",
              "164      VICHADA   Agendamiento citas                   1\n",
              "165      VICHADA  Peticiones y quejas                   8\n",
              "166      VICHADA         Procesos web                  19\n",
              "\n",
              "[167 rows x 3 columns]"
            ]
          },
          "metadata": {
            "tags": []
          },
          "execution_count": 52
        }
      ]
    },
    {
      "cell_type": "code",
      "metadata": {
        "id": "GSK6M3qET0mp",
        "colab": {
          "base_uri": "https://localhost:8080/"
        },
        "outputId": "582b1f40-79ce-4bb2-b89a-529fc1347815"
      },
      "source": [
        "df_grouped.shape"
      ],
      "execution_count": null,
      "outputs": [
        {
          "output_type": "execute_result",
          "data": {
            "text/plain": [
              "(167, 3)"
            ]
          },
          "metadata": {
            "tags": []
          },
          "execution_count": 53
        }
      ]
    },
    {
      "cell_type": "code",
      "metadata": {
        "id": "EHY2jm6ENdbs",
        "colab": {
          "base_uri": "https://localhost:8080/"
        },
        "outputId": "32c8f2ff-c442-4ebf-8f15-d7f325c42afd"
      },
      "source": [
        "df_grouped.index[(df_grouped['Departamento'] == 'SANTAFÉ DE BOGOTÁ')]"
      ],
      "execution_count": null,
      "outputs": [
        {
          "output_type": "execute_result",
          "data": {
            "text/plain": [
              "Int64Index([133, 134, 135, 136, 137], dtype='int64')"
            ]
          },
          "metadata": {
            "tags": []
          },
          "execution_count": 54
        }
      ]
    },
    {
      "cell_type": "code",
      "metadata": {
        "id": "huhrth8UDI9r"
      },
      "source": [
        "df_grouped1 = df_grouped.copy()\n",
        "\n",
        "df_grouped1.drop(df_grouped1.index[(df_grouped1['Departamento'] == 'SANTAFÉ DE BOGOTÁ')], axis=0, inplace=True)"
      ],
      "execution_count": null,
      "outputs": []
    },
    {
      "cell_type": "code",
      "metadata": {
        "id": "gYxaec02qATX",
        "colab": {
          "base_uri": "https://localhost:8080/",
          "height": 715
        },
        "outputId": "c96189ad-24a7-4c60-964e-a047e6f9b89a"
      },
      "source": [
        "df_grouped1.pivot(index='Departamento', columns='Tipo_consulta', values='Cantidad_consultas').plot(kind=\"bar\", figsize = (20,10))\n",
        "\n",
        "#plt.yticks(np.arange(0, 25000, 2500))"
      ],
      "execution_count": null,
      "outputs": [
        {
          "output_type": "execute_result",
          "data": {
            "text/plain": [
              "<matplotlib.axes._subplots.AxesSubplot at 0x7f2c7e0bd090>"
            ]
          },
          "metadata": {
            "tags": []
          },
          "execution_count": 56
        },
        {
          "output_type": "display_data",
          "data": {
            "image/png": "[encoded data removed]",
            "text/plain": [
              "<Figure size 1440x720 with 1 Axes>"
            ]
          },
          "metadata": {
            "tags": [],
            "needs_background": "light"
          }
        }
      ]
    },
    {
      "cell_type": "code",
      "metadata": {
        "id": "jpU_NM7IN5OG",
        "colab": {
          "base_uri": "https://localhost:8080/",
          "height": 342
        },
        "outputId": "2fe7a4cc-b14a-444c-9ed5-d7f9896006d2"
      },
      "source": [
        "index2 = [133, 134, 135, 136, 137]\n",
        "\n",
        "df_grouped2 = df_grouped.iloc[df_grouped.index.isin(index2)]\n",
        "\n",
        "df_grouped2.pivot(index='Departamento', columns='Tipo_consulta', values='Cantidad_consultas').plot(kind=\"bar\", figsize = (8,5))\n",
        "\n",
        "plt.title('Cantidad de consultas por tipo para Santafé de Bogotá')\n",
        "\n",
        "plt.xlabel('')\n",
        "\n",
        "plt.xticks([])"
      ],
      "execution_count": null,
      "outputs": [
        {
          "output_type": "execute_result",
          "data": {
            "text/plain": [
              "([], <a list of 0 Text major ticklabel objects>)"
            ]
          },
          "metadata": {
            "tags": []
          },
          "execution_count": 57
        },
        {
          "output_type": "display_data",
          "data": {
            "image/png": "[encoded data removed]",
            "text/plain": [
              "<Figure size 576x360 with 1 Axes>"
            ]
          },
          "metadata": {
            "tags": [],
            "needs_background": "light"
          }
        }
      ]
    },
    {
      "cell_type": "code",
      "metadata": {
        "id": "uFuAaD-QfP7c"
      },
      "source": [
        "#df_grouped.pivot(index='Departamento', columns='Tipo_consulta', values='Cantidad_consultas').plot(kind=\"bar\", figsize = (20,10))\n",
        "\n",
        "#scale_factor = 0.5\n",
        "\n",
        "##xmin, xmax = plt.xlim()\n",
        "#ymin, ymax = plt.ylim()\n",
        "\n",
        "##plt.xlim(xmin * scale_factor, xmax * scale_factor)\n",
        "#plt.ylim(ymin * scale_factor, ymax * scale_factor)"
      ],
      "execution_count": null,
      "outputs": []
    },
    {
      "cell_type": "code",
      "metadata": {
        "id": "i1zEmbSdE1XJ"
      },
      "source": [
        "df_grouped3 = df_grouped1.sort_values('Cantidad_consultas', ascending=False)"
      ],
      "execution_count": null,
      "outputs": []
    },
    {
      "cell_type": "code",
      "metadata": {
        "id": "C8uXuDmGE-mv",
        "colab": {
          "base_uri": "https://localhost:8080/",
          "height": 202
        },
        "outputId": "12871a72-273b-4375-a85a-c6ace84a972e"
      },
      "source": [
        "df_grouped3.head()"
      ],
      "execution_count": null,
      "outputs": [
        {
          "output_type": "execute_result",
          "data": {
            "text/html": [
              "<div>\n",
              "<style scoped>\n",
              "    .dataframe tbody tr th:only-of-type {\n",
              "        vertical-align: middle;\n",
              "    }\n",
              "\n",
              "    .dataframe tbody tr th {\n",
              "        vertical-align: top;\n",
              "    }\n",
              "\n",
              "    .dataframe thead th {\n",
              "        text-align: right;\n",
              "    }\n",
              "</style>\n",
              "<table border=\"1\" class=\"dataframe\">\n",
              "  <thead>\n",
              "    <tr style=\"text-align: right;\">\n",
              "      <th></th>\n",
              "      <th>Departamento</th>\n",
              "      <th>Tipo_consulta</th>\n",
              "      <th>Cantidad_consultas</th>\n",
              "    </tr>\n",
              "  </thead>\n",
              "  <tbody>\n",
              "    <tr>\n",
              "      <th>9</th>\n",
              "      <td>ANTIOQUIA</td>\n",
              "      <td>Procesos web</td>\n",
              "      <td>22360</td>\n",
              "    </tr>\n",
              "    <tr>\n",
              "      <th>157</th>\n",
              "      <td>VALLE DEL CAUCA</td>\n",
              "      <td>Procesos web</td>\n",
              "      <td>14209</td>\n",
              "    </tr>\n",
              "    <tr>\n",
              "      <th>8</th>\n",
              "      <td>ANTIOQUIA</td>\n",
              "      <td>Peticiones y quejas</td>\n",
              "      <td>11314</td>\n",
              "    </tr>\n",
              "    <tr>\n",
              "      <th>64</th>\n",
              "      <td>CUNDINAMARCA</td>\n",
              "      <td>Procesos web</td>\n",
              "      <td>7894</td>\n",
              "    </tr>\n",
              "    <tr>\n",
              "      <th>156</th>\n",
              "      <td>VALLE DEL CAUCA</td>\n",
              "      <td>Peticiones y quejas</td>\n",
              "      <td>6570</td>\n",
              "    </tr>\n",
              "  </tbody>\n",
              "</table>\n",
              "</div>"
            ],
            "text/plain": [
              "        Departamento        Tipo_consulta  Cantidad_consultas\n",
              "9          ANTIOQUIA         Procesos web               22360\n",
              "157  VALLE DEL CAUCA         Procesos web               14209\n",
              "8          ANTIOQUIA  Peticiones y quejas               11314\n",
              "64      CUNDINAMARCA         Procesos web                7894\n",
              "156  VALLE DEL CAUCA  Peticiones y quejas                6570"
            ]
          },
          "metadata": {
            "tags": []
          },
          "execution_count": 60
        }
      ]
    },
    {
      "cell_type": "code",
      "metadata": {
        "id": "Ja0NCPi3t7XJ",
        "colab": {
          "base_uri": "https://localhost:8080/",
          "height": 742
        },
        "outputId": "3779c723-f8a2-45ee-e5a2-917aa2f4f913"
      },
      "source": [
        "#colors = np.random.rand(31)\n",
        "\n",
        "x = df_grouped3['Departamento']\n",
        "y = df_grouped3['Tipo_consulta']\n",
        "s = df_grouped3['Cantidad_consultas']\n",
        "\n",
        "\n",
        "plt.figure(figsize=(20,12))\n",
        "\n",
        "plt.scatter(x, y, s, alpha=0.5)\n",
        "\n",
        "plt.xticks(rotation='vertical')\n",
        "\n",
        "plt.show()"
      ],
      "execution_count": null,
      "outputs": [
        {
          "output_type": "display_data",
          "data": {
            "image/png": "[encoded data removed]",
            "text/plain": [
              "<Figure size 1440x864 with 1 Axes>"
            ]
          },
          "metadata": {
            "tags": [],
            "needs_background": "light"
          }
        }
      ]
    },
    {
      "cell_type": "code",
      "metadata": {
        "id": "okwyi0xS-ENm"
      },
      "source": [
        "grouped = df_grouped.groupby('Tipo_consulta')\n",
        "\n",
        "new_df = pd.DataFrame([], columns = df_grouped.columns)\n",
        "\n",
        "for key, values in grouped:\n",
        "\n",
        "    new_df = pd.concat([new_df, grouped.get_group(key).sort_values('Cantidad_consultas', ascending=False)[:11]], 0)"
      ],
      "execution_count": null,
      "outputs": []
    },
    {
      "cell_type": "code",
      "metadata": {
        "id": "UKDpXx8M-ZKH",
        "colab": {
          "base_uri": "https://localhost:8080/",
          "height": 1000
        },
        "outputId": "b47ff3f2-7c66-48f9-c041-34f1bd68d54d"
      },
      "source": [
        "new_df"
      ],
      "execution_count": null,
      "outputs": [
        {
          "output_type": "execute_result",
          "data": {
            "text/html": [
              "<div>\n",
              "<style scoped>\n",
              "    .dataframe tbody tr th:only-of-type {\n",
              "        vertical-align: middle;\n",
              "    }\n",
              "\n",
              "    .dataframe tbody tr th {\n",
              "        vertical-align: top;\n",
              "    }\n",
              "\n",
              "    .dataframe thead th {\n",
              "        text-align: right;\n",
              "    }\n",
              "</style>\n",
              "<table border=\"1\" class=\"dataframe\">\n",
              "  <thead>\n",
              "    <tr style=\"text-align: right;\">\n",
              "      <th></th>\n",
              "      <th>Departamento</th>\n",
              "      <th>Tipo_consulta</th>\n",
              "      <th>Cantidad_consultas</th>\n",
              "    </tr>\n",
              "  </thead>\n",
              "  <tbody>\n",
              "    <tr>\n",
              "      <th>133</th>\n",
              "      <td>SANTAFÉ DE BOGOTÁ</td>\n",
              "      <td>Actualización datos</td>\n",
              "      <td>77825</td>\n",
              "    </tr>\n",
              "    <tr>\n",
              "      <th>153</th>\n",
              "      <td>VALLE DEL CAUCA</td>\n",
              "      <td>Actualización datos</td>\n",
              "      <td>6445</td>\n",
              "    </tr>\n",
              "    <tr>\n",
              "      <th>5</th>\n",
              "      <td>ANTIOQUIA</td>\n",
              "      <td>Actualización datos</td>\n",
              "      <td>5842</td>\n",
              "    </tr>\n",
              "    <tr>\n",
              "      <th>15</th>\n",
              "      <td>ATLÁNTICO</td>\n",
              "      <td>Actualización datos</td>\n",
              "      <td>4109</td>\n",
              "    </tr>\n",
              "    <tr>\n",
              "      <th>60</th>\n",
              "      <td>CUNDINAMARCA</td>\n",
              "      <td>Actualización datos</td>\n",
              "      <td>3751</td>\n",
              "    </tr>\n",
              "    <tr>\n",
              "      <th>98</th>\n",
              "      <td>META</td>\n",
              "      <td>Actualización datos</td>\n",
              "      <td>2081</td>\n",
              "    </tr>\n",
              "    <tr>\n",
              "      <th>138</th>\n",
              "      <td>SANTANDER</td>\n",
              "      <td>Actualización datos</td>\n",
              "      <td>1535</td>\n",
              "    </tr>\n",
              "    <tr>\n",
              "      <th>83</th>\n",
              "      <td>HUILA</td>\n",
              "      <td>Actualización datos</td>\n",
              "      <td>1369</td>\n",
              "    </tr>\n",
              "    <tr>\n",
              "      <th>148</th>\n",
              "      <td>TOLIMA</td>\n",
              "      <td>Actualización datos</td>\n",
              "      <td>1132</td>\n",
              "    </tr>\n",
              "    <tr>\n",
              "      <th>123</th>\n",
              "      <td>RISARALDA</td>\n",
              "      <td>Actualización datos</td>\n",
              "      <td>1110</td>\n",
              "    </tr>\n",
              "    <tr>\n",
              "      <th>93</th>\n",
              "      <td>MAGDALENA</td>\n",
              "      <td>Actualización datos</td>\n",
              "      <td>858</td>\n",
              "    </tr>\n",
              "    <tr>\n",
              "      <th>134</th>\n",
              "      <td>SANTAFÉ DE BOGOTÁ</td>\n",
              "      <td>Agendamiento citas</td>\n",
              "      <td>139930</td>\n",
              "    </tr>\n",
              "    <tr>\n",
              "      <th>154</th>\n",
              "      <td>VALLE DEL CAUCA</td>\n",
              "      <td>Agendamiento citas</td>\n",
              "      <td>5985</td>\n",
              "    </tr>\n",
              "    <tr>\n",
              "      <th>6</th>\n",
              "      <td>ANTIOQUIA</td>\n",
              "      <td>Agendamiento citas</td>\n",
              "      <td>5392</td>\n",
              "    </tr>\n",
              "    <tr>\n",
              "      <th>61</th>\n",
              "      <td>CUNDINAMARCA</td>\n",
              "      <td>Agendamiento citas</td>\n",
              "      <td>4367</td>\n",
              "    </tr>\n",
              "    <tr>\n",
              "      <th>16</th>\n",
              "      <td>ATLÁNTICO</td>\n",
              "      <td>Agendamiento citas</td>\n",
              "      <td>2435</td>\n",
              "    </tr>\n",
              "    <tr>\n",
              "      <th>84</th>\n",
              "      <td>HUILA</td>\n",
              "      <td>Agendamiento citas</td>\n",
              "      <td>1472</td>\n",
              "    </tr>\n",
              "    <tr>\n",
              "      <th>94</th>\n",
              "      <td>MAGDALENA</td>\n",
              "      <td>Agendamiento citas</td>\n",
              "      <td>1272</td>\n",
              "    </tr>\n",
              "    <tr>\n",
              "      <th>124</th>\n",
              "      <td>RISARALDA</td>\n",
              "      <td>Agendamiento citas</td>\n",
              "      <td>1008</td>\n",
              "    </tr>\n",
              "    <tr>\n",
              "      <th>139</th>\n",
              "      <td>SANTANDER</td>\n",
              "      <td>Agendamiento citas</td>\n",
              "      <td>957</td>\n",
              "    </tr>\n",
              "    <tr>\n",
              "      <th>99</th>\n",
              "      <td>META</td>\n",
              "      <td>Agendamiento citas</td>\n",
              "      <td>860</td>\n",
              "    </tr>\n",
              "    <tr>\n",
              "      <th>149</th>\n",
              "      <td>TOLIMA</td>\n",
              "      <td>Agendamiento citas</td>\n",
              "      <td>787</td>\n",
              "    </tr>\n",
              "    <tr>\n",
              "      <th>135</th>\n",
              "      <td>SANTAFÉ DE BOGOTÁ</td>\n",
              "      <td>Información general</td>\n",
              "      <td>13285</td>\n",
              "    </tr>\n",
              "    <tr>\n",
              "      <th>7</th>\n",
              "      <td>ANTIOQUIA</td>\n",
              "      <td>Información general</td>\n",
              "      <td>1312</td>\n",
              "    </tr>\n",
              "    <tr>\n",
              "      <th>155</th>\n",
              "      <td>VALLE DEL CAUCA</td>\n",
              "      <td>Información general</td>\n",
              "      <td>809</td>\n",
              "    </tr>\n",
              "    <tr>\n",
              "      <th>62</th>\n",
              "      <td>CUNDINAMARCA</td>\n",
              "      <td>Información general</td>\n",
              "      <td>589</td>\n",
              "    </tr>\n",
              "    <tr>\n",
              "      <th>17</th>\n",
              "      <td>ATLÁNTICO</td>\n",
              "      <td>Información general</td>\n",
              "      <td>346</td>\n",
              "    </tr>\n",
              "    <tr>\n",
              "      <th>140</th>\n",
              "      <td>SANTANDER</td>\n",
              "      <td>Información general</td>\n",
              "      <td>311</td>\n",
              "    </tr>\n",
              "    <tr>\n",
              "      <th>150</th>\n",
              "      <td>TOLIMA</td>\n",
              "      <td>Información general</td>\n",
              "      <td>195</td>\n",
              "    </tr>\n",
              "    <tr>\n",
              "      <th>22</th>\n",
              "      <td>BOLÍVAR</td>\n",
              "      <td>Información general</td>\n",
              "      <td>128</td>\n",
              "    </tr>\n",
              "    <tr>\n",
              "      <th>125</th>\n",
              "      <td>RISARALDA</td>\n",
              "      <td>Información general</td>\n",
              "      <td>126</td>\n",
              "    </tr>\n",
              "    <tr>\n",
              "      <th>100</th>\n",
              "      <td>META</td>\n",
              "      <td>Información general</td>\n",
              "      <td>107</td>\n",
              "    </tr>\n",
              "    <tr>\n",
              "      <th>72</th>\n",
              "      <td>EXTERIOR</td>\n",
              "      <td>Información general</td>\n",
              "      <td>96</td>\n",
              "    </tr>\n",
              "    <tr>\n",
              "      <th>136</th>\n",
              "      <td>SANTAFÉ DE BOGOTÁ</td>\n",
              "      <td>Peticiones y quejas</td>\n",
              "      <td>67796</td>\n",
              "    </tr>\n",
              "    <tr>\n",
              "      <th>8</th>\n",
              "      <td>ANTIOQUIA</td>\n",
              "      <td>Peticiones y quejas</td>\n",
              "      <td>11314</td>\n",
              "    </tr>\n",
              "    <tr>\n",
              "      <th>156</th>\n",
              "      <td>VALLE DEL CAUCA</td>\n",
              "      <td>Peticiones y quejas</td>\n",
              "      <td>6570</td>\n",
              "    </tr>\n",
              "    <tr>\n",
              "      <th>63</th>\n",
              "      <td>CUNDINAMARCA</td>\n",
              "      <td>Peticiones y quejas</td>\n",
              "      <td>3124</td>\n",
              "    </tr>\n",
              "    <tr>\n",
              "      <th>141</th>\n",
              "      <td>SANTANDER</td>\n",
              "      <td>Peticiones y quejas</td>\n",
              "      <td>2084</td>\n",
              "    </tr>\n",
              "    <tr>\n",
              "      <th>18</th>\n",
              "      <td>ATLÁNTICO</td>\n",
              "      <td>Peticiones y quejas</td>\n",
              "      <td>1827</td>\n",
              "    </tr>\n",
              "    <tr>\n",
              "      <th>101</th>\n",
              "      <td>META</td>\n",
              "      <td>Peticiones y quejas</td>\n",
              "      <td>892</td>\n",
              "    </tr>\n",
              "    <tr>\n",
              "      <th>126</th>\n",
              "      <td>RISARALDA</td>\n",
              "      <td>Peticiones y quejas</td>\n",
              "      <td>860</td>\n",
              "    </tr>\n",
              "    <tr>\n",
              "      <th>151</th>\n",
              "      <td>TOLIMA</td>\n",
              "      <td>Peticiones y quejas</td>\n",
              "      <td>718</td>\n",
              "    </tr>\n",
              "    <tr>\n",
              "      <th>73</th>\n",
              "      <td>EXTERIOR</td>\n",
              "      <td>Peticiones y quejas</td>\n",
              "      <td>601</td>\n",
              "    </tr>\n",
              "    <tr>\n",
              "      <th>23</th>\n",
              "      <td>BOLÍVAR</td>\n",
              "      <td>Peticiones y quejas</td>\n",
              "      <td>583</td>\n",
              "    </tr>\n",
              "    <tr>\n",
              "      <th>137</th>\n",
              "      <td>SANTAFÉ DE BOGOTÁ</td>\n",
              "      <td>Procesos web</td>\n",
              "      <td>170958</td>\n",
              "    </tr>\n",
              "    <tr>\n",
              "      <th>9</th>\n",
              "      <td>ANTIOQUIA</td>\n",
              "      <td>Procesos web</td>\n",
              "      <td>22360</td>\n",
              "    </tr>\n",
              "    <tr>\n",
              "      <th>157</th>\n",
              "      <td>VALLE DEL CAUCA</td>\n",
              "      <td>Procesos web</td>\n",
              "      <td>14209</td>\n",
              "    </tr>\n",
              "    <tr>\n",
              "      <th>64</th>\n",
              "      <td>CUNDINAMARCA</td>\n",
              "      <td>Procesos web</td>\n",
              "      <td>7894</td>\n",
              "    </tr>\n",
              "    <tr>\n",
              "      <th>19</th>\n",
              "      <td>ATLÁNTICO</td>\n",
              "      <td>Procesos web</td>\n",
              "      <td>5694</td>\n",
              "    </tr>\n",
              "    <tr>\n",
              "      <th>142</th>\n",
              "      <td>SANTANDER</td>\n",
              "      <td>Procesos web</td>\n",
              "      <td>3492</td>\n",
              "    </tr>\n",
              "    <tr>\n",
              "      <th>102</th>\n",
              "      <td>META</td>\n",
              "      <td>Procesos web</td>\n",
              "      <td>2355</td>\n",
              "    </tr>\n",
              "    <tr>\n",
              "      <th>127</th>\n",
              "      <td>RISARALDA</td>\n",
              "      <td>Procesos web</td>\n",
              "      <td>2014</td>\n",
              "    </tr>\n",
              "    <tr>\n",
              "      <th>152</th>\n",
              "      <td>TOLIMA</td>\n",
              "      <td>Procesos web</td>\n",
              "      <td>1867</td>\n",
              "    </tr>\n",
              "    <tr>\n",
              "      <th>87</th>\n",
              "      <td>HUILA</td>\n",
              "      <td>Procesos web</td>\n",
              "      <td>1624</td>\n",
              "    </tr>\n",
              "    <tr>\n",
              "      <th>24</th>\n",
              "      <td>BOLÍVAR</td>\n",
              "      <td>Procesos web</td>\n",
              "      <td>1536</td>\n",
              "    </tr>\n",
              "  </tbody>\n",
              "</table>\n",
              "</div>"
            ],
            "text/plain": [
              "          Departamento        Tipo_consulta Cantidad_consultas\n",
              "133  SANTAFÉ DE BOGOTÁ  Actualización datos              77825\n",
              "153    VALLE DEL CAUCA  Actualización datos               6445\n",
              "5            ANTIOQUIA  Actualización datos               5842\n",
              "15           ATLÁNTICO  Actualización datos               4109\n",
              "60        CUNDINAMARCA  Actualización datos               3751\n",
              "98                META  Actualización datos               2081\n",
              "138          SANTANDER  Actualización datos               1535\n",
              "83               HUILA  Actualización datos               1369\n",
              "148             TOLIMA  Actualización datos               1132\n",
              "123          RISARALDA  Actualización datos               1110\n",
              "93           MAGDALENA  Actualización datos                858\n",
              "134  SANTAFÉ DE BOGOTÁ   Agendamiento citas             139930\n",
              "154    VALLE DEL CAUCA   Agendamiento citas               5985\n",
              "6            ANTIOQUIA   Agendamiento citas               5392\n",
              "61        CUNDINAMARCA   Agendamiento citas               4367\n",
              "16           ATLÁNTICO   Agendamiento citas               2435\n",
              "84               HUILA   Agendamiento citas               1472\n",
              "94           MAGDALENA   Agendamiento citas               1272\n",
              "124          RISARALDA   Agendamiento citas               1008\n",
              "139          SANTANDER   Agendamiento citas                957\n",
              "99                META   Agendamiento citas                860\n",
              "149             TOLIMA   Agendamiento citas                787\n",
              "135  SANTAFÉ DE BOGOTÁ  Información general              13285\n",
              "7            ANTIOQUIA  Información general               1312\n",
              "155    VALLE DEL CAUCA  Información general                809\n",
              "62        CUNDINAMARCA  Información general                589\n",
              "17           ATLÁNTICO  Información general                346\n",
              "140          SANTANDER  Información general                311\n",
              "150             TOLIMA  Información general                195\n",
              "22             BOLÍVAR  Información general                128\n",
              "125          RISARALDA  Información general                126\n",
              "100               META  Información general                107\n",
              "72            EXTERIOR  Información general                 96\n",
              "136  SANTAFÉ DE BOGOTÁ  Peticiones y quejas              67796\n",
              "8            ANTIOQUIA  Peticiones y quejas              11314\n",
              "156    VALLE DEL CAUCA  Peticiones y quejas               6570\n",
              "63        CUNDINAMARCA  Peticiones y quejas               3124\n",
              "141          SANTANDER  Peticiones y quejas               2084\n",
              "18           ATLÁNTICO  Peticiones y quejas               1827\n",
              "101               META  Peticiones y quejas                892\n",
              "126          RISARALDA  Peticiones y quejas                860\n",
              "151             TOLIMA  Peticiones y quejas                718\n",
              "73            EXTERIOR  Peticiones y quejas                601\n",
              "23             BOLÍVAR  Peticiones y quejas                583\n",
              "137  SANTAFÉ DE BOGOTÁ         Procesos web             170958\n",
              "9            ANTIOQUIA         Procesos web              22360\n",
              "157    VALLE DEL CAUCA         Procesos web              14209\n",
              "64        CUNDINAMARCA         Procesos web               7894\n",
              "19           ATLÁNTICO         Procesos web               5694\n",
              "142          SANTANDER         Procesos web               3492\n",
              "102               META         Procesos web               2355\n",
              "127          RISARALDA         Procesos web               2014\n",
              "152             TOLIMA         Procesos web               1867\n",
              "87               HUILA         Procesos web               1624\n",
              "24             BOLÍVAR         Procesos web               1536"
            ]
          },
          "metadata": {
            "tags": []
          },
          "execution_count": 63
        }
      ]
    },
    {
      "cell_type": "markdown",
      "metadata": {
        "id": "F9kTPRNZZRhH"
      },
      "source": [
        "Determinar la franja horaria de mayor flujo de consultas."
      ]
    },
    {
      "cell_type": "code",
      "metadata": {
        "id": "WSPcCAUPKIGc"
      },
      "source": [
        "#Se extrae la hora de la columna Fecha_consulta, y se inserta una nueva columna en la tercera posición a la izquierda\n",
        "\n",
        "df4 = df.copy()\n",
        "\n",
        "df4['Fecha_consulta'] = pd.to_datetime(df['Fecha_consulta']).dt.date\n",
        "\n",
        "H = pd.to_datetime(df['Fecha_consulta']).dt.time\n",
        "df4.insert(2, 'Hora_consulta', H)"
      ],
      "execution_count": null,
      "outputs": []
    },
    {
      "cell_type": "code",
      "metadata": {
        "colab": {
          "base_uri": "https://localhost:8080/",
          "height": 202
        },
        "id": "SqNf6oCoKvsZ",
        "outputId": "6a7ad7c6-1df7-42e1-b21e-6f1a5cb758d4"
      },
      "source": [
        "df4.head()"
      ],
      "execution_count": null,
      "outputs": [
        {
          "output_type": "execute_result",
          "data": {
            "text/html": [
              "<div>\n",
              "<style scoped>\n",
              "    .dataframe tbody tr th:only-of-type {\n",
              "        vertical-align: middle;\n",
              "    }\n",
              "\n",
              "    .dataframe tbody tr th {\n",
              "        vertical-align: top;\n",
              "    }\n",
              "\n",
              "    .dataframe thead th {\n",
              "        text-align: right;\n",
              "    }\n",
              "</style>\n",
              "<table border=\"1\" class=\"dataframe\">\n",
              "  <thead>\n",
              "    <tr style=\"text-align: right;\">\n",
              "      <th></th>\n",
              "      <th>ID_Cuenta</th>\n",
              "      <th>Fecha_consulta</th>\n",
              "      <th>Hora_consulta</th>\n",
              "      <th>Tipo_consulta</th>\n",
              "      <th>Tipo_persona</th>\n",
              "      <th>Departamento</th>\n",
              "    </tr>\n",
              "  </thead>\n",
              "  <tbody>\n",
              "    <tr>\n",
              "      <th>0</th>\n",
              "      <td>340</td>\n",
              "      <td>2015-06-22</td>\n",
              "      <td>16:14:35</td>\n",
              "      <td>Actualización datos</td>\n",
              "      <td>soltero</td>\n",
              "      <td>SANTAFÉ DE BOGOTÁ</td>\n",
              "    </tr>\n",
              "    <tr>\n",
              "      <th>1</th>\n",
              "      <td>340</td>\n",
              "      <td>2015-06-22</td>\n",
              "      <td>16:37:02</td>\n",
              "      <td>Agendamiento citas</td>\n",
              "      <td>soltero</td>\n",
              "      <td>SANTAFÉ DE BOGOTÁ</td>\n",
              "    </tr>\n",
              "    <tr>\n",
              "      <th>2</th>\n",
              "      <td>340</td>\n",
              "      <td>2015-06-22</td>\n",
              "      <td>15:50:56</td>\n",
              "      <td>Agendamiento citas</td>\n",
              "      <td>soltero</td>\n",
              "      <td>SANTAFÉ DE BOGOTÁ</td>\n",
              "    </tr>\n",
              "    <tr>\n",
              "      <th>3</th>\n",
              "      <td>4d5c0e16-9bef-8334-687e-55f043e02c62</td>\n",
              "      <td>2015-09-09</td>\n",
              "      <td>14:35:37</td>\n",
              "      <td>Agendamiento citas</td>\n",
              "      <td>soltero</td>\n",
              "      <td>SANTAFÉ DE BOGOTÁ</td>\n",
              "    </tr>\n",
              "    <tr>\n",
              "      <th>4</th>\n",
              "      <td>66df1d0e-0d2c-1e44-aa3a-55b2a013640c</td>\n",
              "      <td>2015-07-24</td>\n",
              "      <td>20:36:26</td>\n",
              "      <td>Agendamiento citas</td>\n",
              "      <td>soltero</td>\n",
              "      <td>SANTAFÉ DE BOGOTÁ</td>\n",
              "    </tr>\n",
              "  </tbody>\n",
              "</table>\n",
              "</div>"
            ],
            "text/plain": [
              "                              ID_Cuenta  ...       Departamento\n",
              "0                                   340  ...  SANTAFÉ DE BOGOTÁ\n",
              "1                                   340  ...  SANTAFÉ DE BOGOTÁ\n",
              "2                                   340  ...  SANTAFÉ DE BOGOTÁ\n",
              "3  4d5c0e16-9bef-8334-687e-55f043e02c62  ...  SANTAFÉ DE BOGOTÁ\n",
              "4  66df1d0e-0d2c-1e44-aa3a-55b2a013640c  ...  SANTAFÉ DE BOGOTÁ\n",
              "\n",
              "[5 rows x 6 columns]"
            ]
          },
          "metadata": {
            "tags": []
          },
          "execution_count": 13
        }
      ]
    },
    {
      "cell_type": "code",
      "metadata": {
        "colab": {
          "base_uri": "https://localhost:8080/",
          "height": 202
        },
        "id": "si4CVSU00960",
        "outputId": "9829c35a-7345-4281-c40b-e446d17fcabb"
      },
      "source": [
        "df4.tail()"
      ],
      "execution_count": null,
      "outputs": [
        {
          "output_type": "execute_result",
          "data": {
            "text/html": [
              "<div>\n",
              "<style scoped>\n",
              "    .dataframe tbody tr th:only-of-type {\n",
              "        vertical-align: middle;\n",
              "    }\n",
              "\n",
              "    .dataframe tbody tr th {\n",
              "        vertical-align: top;\n",
              "    }\n",
              "\n",
              "    .dataframe thead th {\n",
              "        text-align: right;\n",
              "    }\n",
              "</style>\n",
              "<table border=\"1\" class=\"dataframe\">\n",
              "  <thead>\n",
              "    <tr style=\"text-align: right;\">\n",
              "      <th></th>\n",
              "      <th>ID_Cuenta</th>\n",
              "      <th>Fecha_consulta</th>\n",
              "      <th>Hora_consulta</th>\n",
              "      <th>Tipo_consulta</th>\n",
              "      <th>Tipo_persona</th>\n",
              "      <th>Departamento</th>\n",
              "    </tr>\n",
              "  </thead>\n",
              "  <tbody>\n",
              "    <tr>\n",
              "      <th>641331</th>\n",
              "      <td>XHTML1.0</td>\n",
              "      <td>2015-06-02</td>\n",
              "      <td>15:59:34</td>\n",
              "      <td>Peticiones y quejas</td>\n",
              "      <td>soltero</td>\n",
              "      <td>SANTAFÉ DE BOGOTÁ</td>\n",
              "    </tr>\n",
              "    <tr>\n",
              "      <th>641332</th>\n",
              "      <td>YA5972336</td>\n",
              "      <td>2015-06-23</td>\n",
              "      <td>18:09:45</td>\n",
              "      <td>Agendamiento citas</td>\n",
              "      <td>soltero</td>\n",
              "      <td>SANTAFÉ DE BOGOTÁ</td>\n",
              "    </tr>\n",
              "    <tr>\n",
              "      <th>641333</th>\n",
              "      <td>YA5981643</td>\n",
              "      <td>2015-06-23</td>\n",
              "      <td>19:35:04</td>\n",
              "      <td>Actualización datos</td>\n",
              "      <td>soltero</td>\n",
              "      <td>SANTAFÉ DE BOGOTÁ</td>\n",
              "    </tr>\n",
              "    <tr>\n",
              "      <th>641334</th>\n",
              "      <td>YO231519S</td>\n",
              "      <td>2015-06-30</td>\n",
              "      <td>13:05:21</td>\n",
              "      <td>Información general</td>\n",
              "      <td>soltero</td>\n",
              "      <td>EXTERIOR</td>\n",
              "    </tr>\n",
              "    <tr>\n",
              "      <th>641335</th>\n",
              "      <td>Z3047092</td>\n",
              "      <td>2015-09-25</td>\n",
              "      <td>14:42:42</td>\n",
              "      <td>Agendamiento citas</td>\n",
              "      <td>soltero</td>\n",
              "      <td>SANTAFÉ DE BOGOTÁ</td>\n",
              "    </tr>\n",
              "  </tbody>\n",
              "</table>\n",
              "</div>"
            ],
            "text/plain": [
              "        ID_Cuenta Fecha_consulta  ... Tipo_persona       Departamento\n",
              "641331   XHTML1.0     2015-06-02  ...      soltero  SANTAFÉ DE BOGOTÁ\n",
              "641332  YA5972336     2015-06-23  ...      soltero  SANTAFÉ DE BOGOTÁ\n",
              "641333  YA5981643     2015-06-23  ...      soltero  SANTAFÉ DE BOGOTÁ\n",
              "641334  YO231519S     2015-06-30  ...      soltero           EXTERIOR\n",
              "641335   Z3047092     2015-09-25  ...      soltero  SANTAFÉ DE BOGOTÁ\n",
              "\n",
              "[5 rows x 6 columns]"
            ]
          },
          "metadata": {
            "tags": []
          },
          "execution_count": 14
        }
      ]
    },
    {
      "cell_type": "code",
      "metadata": {
        "colab": {
          "base_uri": "https://localhost:8080/"
        },
        "id": "buDYfVW4wtqS",
        "outputId": "240bc3b0-9194-47e6-acc4-dc686c65ed3b"
      },
      "source": [
        "df4.shape"
      ],
      "execution_count": null,
      "outputs": [
        {
          "output_type": "execute_result",
          "data": {
            "text/plain": [
              "(641240, 6)"
            ]
          },
          "metadata": {
            "tags": []
          },
          "execution_count": 15
        }
      ]
    },
    {
      "cell_type": "code",
      "metadata": {
        "colab": {
          "base_uri": "https://localhost:8080/"
        },
        "id": "rFxLX8JltBxF",
        "outputId": "de273a31-0130-4acd-da42-bac610717cee"
      },
      "source": [
        "df4.Tipo_consulta.unique().tolist()"
      ],
      "execution_count": null,
      "outputs": [
        {
          "output_type": "execute_result",
          "data": {
            "text/plain": [
              "['Actualización datos',\n",
              " 'Agendamiento citas',\n",
              " 'Peticiones y quejas',\n",
              " 'Procesos web',\n",
              " 'Información general']"
            ]
          },
          "metadata": {
            "tags": []
          },
          "execution_count": 55
        }
      ]
    },
    {
      "cell_type": "code",
      "metadata": {
        "colab": {
          "base_uri": "https://localhost:8080/"
        },
        "id": "0sfX79CgmGWB",
        "outputId": "fec7ac78-94b7-4c74-c47b-89667b21c0b5"
      },
      "source": [
        "df5 = df4[['Tipo_consulta', 'Hora_consulta']]\n",
        "\n",
        "m = pd.to_datetime('12:00:00').time()\n",
        "\n",
        "list5 = df5.Tipo_consulta.unique().tolist()\n",
        "\n",
        "for i in list5:\n",
        "  df_grouped5 = df5[df5['Tipo_consulta'] == i].groupby(df5.Hora_consulta < m).size().rename({True: 'Mañana', False: 'Tarde'})\n",
        "  print(i)\n",
        "  print(df_grouped5)\n",
        "  print('***************')"
      ],
      "execution_count": null,
      "outputs": [
        {
          "output_type": "stream",
          "text": [
            "Actualización datos\n",
            "Hora_consulta\n",
            "Tarde     107719\n",
            "Mañana      2768\n",
            "dtype: int64\n",
            "***************\n",
            "Agendamiento citas\n",
            "Hora_consulta\n",
            "Tarde     162549\n",
            "Mañana      4325\n",
            "dtype: int64\n",
            "***************\n",
            "Peticiones y quejas\n",
            "Hora_consulta\n",
            "Tarde     98862\n",
            "Mañana     1851\n",
            "dtype: int64\n",
            "***************\n",
            "Procesos web\n",
            "Hora_consulta\n",
            "Tarde     238247\n",
            "Mañana      6934\n",
            "dtype: int64\n",
            "***************\n",
            "Información general\n",
            "Hora_consulta\n",
            "Tarde     17600\n",
            "Mañana      385\n",
            "dtype: int64\n",
            "***************\n"
          ],
          "name": "stdout"
        }
      ]
    },
    {
      "cell_type": "code",
      "metadata": {
        "colab": {
          "base_uri": "https://localhost:8080/"
        },
        "id": "dOJBy1yTyftV",
        "outputId": "a495a315-5cff-431c-c929-26334487e3b9"
      },
      "source": [
        "df5.groupby(df5.Hora_consulta < m).size().rename({True: 'Mañana', False: 'Tarde'})"
      ],
      "execution_count": null,
      "outputs": [
        {
          "output_type": "execute_result",
          "data": {
            "text/plain": [
              "Hora_consulta\n",
              "Tarde     624977\n",
              "Mañana     16263\n",
              "dtype: int64"
            ]
          },
          "metadata": {
            "tags": []
          },
          "execution_count": 75
        }
      ]
    },
    {
      "cell_type": "code",
      "metadata": {
        "colab": {
          "base_uri": "https://localhost:8080/",
          "height": 570
        },
        "id": "03801_j25wNi",
        "outputId": "680f02ed-6f6b-424c-c12b-edf9a61bf8b0"
      },
      "source": [
        "plt.figure(figsize=(15,6))\n",
        "plt.hist([t.hour + t.minute/60. for t in df4['Hora_consulta']], bins = 24)"
      ],
      "execution_count": null,
      "outputs": [
        {
          "output_type": "execute_result",
          "data": {
            "text/plain": [
              "(array([1.0290e+04, 6.0500e+02, 0.0000e+00, 0.0000e+00, 0.0000e+00,\n",
              "        0.0000e+00, 1.0000e+00, 0.0000e+00, 0.0000e+00, 0.0000e+00,\n",
              "        5.8000e+01, 5.3090e+03, 2.1232e+04, 5.0703e+04, 6.7603e+04,\n",
              "        7.2682e+04, 7.4098e+04, 5.9056e+04, 4.5968e+04, 5.7580e+04,\n",
              "        6.2574e+04, 5.7758e+04, 3.6739e+04, 1.8984e+04]),\n",
              " array([ 0.        ,  0.99930556,  1.99861111,  2.99791667,  3.99722222,\n",
              "         4.99652778,  5.99583333,  6.99513889,  7.99444444,  8.99375   ,\n",
              "         9.99305556, 10.99236111, 11.99166667, 12.99097222, 13.99027778,\n",
              "        14.98958333, 15.98888889, 16.98819444, 17.9875    , 18.98680556,\n",
              "        19.98611111, 20.98541667, 21.98472222, 22.98402778, 23.98333333]),\n",
              " <a list of 24 Patch objects>)"
            ]
          },
          "metadata": {
            "tags": []
          },
          "execution_count": 87
        },
        {
          "output_type": "display_data",
          "data": {
            "image/png": "[encoded data removed]",
            "text/plain": [
              "<Figure size 1080x432 with 1 Axes>"
            ]
          },
          "metadata": {
            "tags": [],
            "needs_background": "light"
          }
        }
      ]
    },
    {
      "cell_type": "code",
      "metadata": {
        "colab": {
          "base_uri": "https://localhost:8080/",
          "height": 818
        },
        "id": "3tJmK7pw6oKR",
        "outputId": "afc34fac-6b35-4815-962f-836570d37d56"
      },
      "source": [
        "import numpy as np\n",
        "\n",
        "# get a list of the times\n",
        "times = [t.hour + t.minute/60. for t in df4['Hora_consulta']]\n",
        "\n",
        "# set the time interval required (in minutes)\n",
        "tinterval = 60.\n",
        "\n",
        "# find the lower and upper bin edges (on an integer number of 10 mins past the hour)\n",
        "lowbin = np.min(times) - np.fmod(np.min(times)-np.floor(np.min(times)), tinterval/60.)\n",
        "highbin = np.max(times) - np.fmod(np.max(times)-np.ceil(np.max(times)), tinterval/60.)\n",
        "bins = np.arange(lowbin, highbin+1, tinterval/60.)  # set the bin edges\n",
        "\n",
        "# create the histogram\n",
        "plt.figure(figsize=(18,6))\n",
        "plt.hist(times, bins=bins)\n",
        "ax = plt.gca()  # get the current plot axes\n",
        "ax.set_xticks(bins)  # set the position of the ticks to the histogram bin edges\n",
        "\n",
        "# create new labels in hh:mm format (in twenty-four hour clock)\n",
        "newlabels = []\n",
        "for edge in bins:\n",
        "    h, m = divmod(edge%24, 1)  # get hours and minutes (in 24 hour clock)\n",
        "    newlabels.append('{0:01d}:{1:02d}'.format(int(h), int(m*60)))  # create the new label\n",
        "\n",
        "ax.set_xticklabels(newlabels)  # set the new labels"
      ],
      "execution_count": null,
      "outputs": [
        {
          "output_type": "execute_result",
          "data": {
            "text/plain": [
              "[Text(0, 0, '0:00'),\n",
              " Text(0, 0, '1:00'),\n",
              " Text(0, 0, '2:00'),\n",
              " Text(0, 0, '3:00'),\n",
              " Text(0, 0, '4:00'),\n",
              " Text(0, 0, '5:00'),\n",
              " Text(0, 0, '6:00'),\n",
              " Text(0, 0, '7:00'),\n",
              " Text(0, 0, '8:00'),\n",
              " Text(0, 0, '9:00'),\n",
              " Text(0, 0, '10:00'),\n",
              " Text(0, 0, '11:00'),\n",
              " Text(0, 0, '12:00'),\n",
              " Text(0, 0, '13:00'),\n",
              " Text(0, 0, '14:00'),\n",
              " Text(0, 0, '15:00'),\n",
              " Text(0, 0, '16:00'),\n",
              " Text(0, 0, '17:00'),\n",
              " Text(0, 0, '18:00'),\n",
              " Text(0, 0, '19:00'),\n",
              " Text(0, 0, '20:00'),\n",
              " Text(0, 0, '21:00'),\n",
              " Text(0, 0, '22:00'),\n",
              " Text(0, 0, '23:00'),\n",
              " Text(0, 0, '0:00')]"
            ]
          },
          "metadata": {
            "tags": []
          },
          "execution_count": 91
        },
        {
          "output_type": "display_data",
          "data": {
            "image/png": "[encoded data removed]",
            "text/plain": [
              "<Figure size 1296x432 with 1 Axes>"
            ]
          },
          "metadata": {
            "tags": [],
            "needs_background": "light"
          }
        }
      ]
    },
    {
      "cell_type": "code",
      "metadata": {
        "colab": {
          "base_uri": "https://localhost:8080/",
          "height": 308
        },
        "id": "hnoXpU0Xc7cu",
        "outputId": "e052edb9-5292-4fa6-985c-1e6d142a19a3"
      },
      "source": [
        "df6 = df4[['Tipo_consulta', 'Fecha_consulta']]\n",
        "\n",
        "df4['Hora_consulta'] = pd.to_datetime(df4['Hora_consulta'], format='%H:%M:%S')\n",
        "\n",
        "df6['Franja_horaria'] = df4['Hora_consulta'].dt.hour\n",
        "\n",
        "df6.head()"
      ],
      "execution_count": null,
      "outputs": [
        {
          "output_type": "stream",
          "text": [
            "/usr/local/lib/python3.7/dist-packages/ipykernel_launcher.py:5: SettingWithCopyWarning: \n",
            "A value is trying to be set on a copy of a slice from a DataFrame.\n",
            "Try using .loc[row_indexer,col_indexer] = value instead\n",
            "\n",
            "See the caveats in the documentation: https://pandas.pydata.org/pandas-docs/stable/user_guide/indexing.html#returning-a-view-versus-a-copy\n",
            "  \"\"\"\n"
          ],
          "name": "stderr"
        },
        {
          "output_type": "execute_result",
          "data": {
            "text/html": [
              "<div>\n",
              "<style scoped>\n",
              "    .dataframe tbody tr th:only-of-type {\n",
              "        vertical-align: middle;\n",
              "    }\n",
              "\n",
              "    .dataframe tbody tr th {\n",
              "        vertical-align: top;\n",
              "    }\n",
              "\n",
              "    .dataframe thead th {\n",
              "        text-align: right;\n",
              "    }\n",
              "</style>\n",
              "<table border=\"1\" class=\"dataframe\">\n",
              "  <thead>\n",
              "    <tr style=\"text-align: right;\">\n",
              "      <th></th>\n",
              "      <th>Tipo_consulta</th>\n",
              "      <th>Fecha_consulta</th>\n",
              "      <th>Franja_horaria</th>\n",
              "    </tr>\n",
              "  </thead>\n",
              "  <tbody>\n",
              "    <tr>\n",
              "      <th>0</th>\n",
              "      <td>Actualización datos</td>\n",
              "      <td>2015-06-22</td>\n",
              "      <td>16</td>\n",
              "    </tr>\n",
              "    <tr>\n",
              "      <th>1</th>\n",
              "      <td>Agendamiento citas</td>\n",
              "      <td>2015-06-22</td>\n",
              "      <td>16</td>\n",
              "    </tr>\n",
              "    <tr>\n",
              "      <th>2</th>\n",
              "      <td>Agendamiento citas</td>\n",
              "      <td>2015-06-22</td>\n",
              "      <td>15</td>\n",
              "    </tr>\n",
              "    <tr>\n",
              "      <th>3</th>\n",
              "      <td>Agendamiento citas</td>\n",
              "      <td>2015-09-09</td>\n",
              "      <td>14</td>\n",
              "    </tr>\n",
              "    <tr>\n",
              "      <th>4</th>\n",
              "      <td>Agendamiento citas</td>\n",
              "      <td>2015-07-24</td>\n",
              "      <td>20</td>\n",
              "    </tr>\n",
              "  </tbody>\n",
              "</table>\n",
              "</div>"
            ],
            "text/plain": [
              "         Tipo_consulta Fecha_consulta  Franja_horaria\n",
              "0  Actualización datos     2015-06-22              16\n",
              "1   Agendamiento citas     2015-06-22              16\n",
              "2   Agendamiento citas     2015-06-22              15\n",
              "3   Agendamiento citas     2015-09-09              14\n",
              "4   Agendamiento citas     2015-07-24              20"
            ]
          },
          "metadata": {
            "tags": []
          },
          "execution_count": 80
        }
      ]
    },
    {
      "cell_type": "code",
      "metadata": {
        "colab": {
          "base_uri": "https://localhost:8080/"
        },
        "id": "gEyPf272e5AJ",
        "outputId": "da3b4326-6522-4fa0-8861-5ac145d3b397"
      },
      "source": [
        "df6.shape"
      ],
      "execution_count": null,
      "outputs": [
        {
          "output_type": "execute_result",
          "data": {
            "text/plain": [
              "(641240, 3)"
            ]
          },
          "metadata": {
            "tags": []
          },
          "execution_count": 81
        }
      ]
    },
    {
      "cell_type": "code",
      "metadata": {
        "id": "JlYs2Hj6HRtr"
      },
      "source": [
        "df6.groupby(['Tipo_consulta', 'Franja_horaria'], as_index=False).size()"
      ],
      "execution_count": null,
      "outputs": []
    },
    {
      "cell_type": "code",
      "metadata": {
        "id": "gSYAuA2dLap2"
      },
      "source": [
        "df6.rename(columns={'size':'Cantidad_consultas'}, inplace=True)"
      ],
      "execution_count": null,
      "outputs": []
    },
    {
      "cell_type": "code",
      "metadata": {
        "colab": {
          "base_uri": "https://localhost:8080/",
          "height": 593
        },
        "id": "Q0RjRjjRgtAb",
        "outputId": "ba6a52c8-e209-4d3d-d50d-e7123b2e0dba"
      },
      "source": [
        "df6.pivot(index='Franja_horaria', columns='Tipo_consulta', values='Cantidad_consultas').plot(kind=\"bar\", figsize = (20,10))"
      ],
      "execution_count": null,
      "outputs": [
        {
          "output_type": "execute_result",
          "data": {
            "text/plain": [
              "<matplotlib.axes._subplots.AxesSubplot at 0x7ff65da69250>"
            ]
          },
          "metadata": {
            "tags": []
          },
          "execution_count": 74
        },
        {
          "output_type": "display_data",
          "data": {
            "image/png": "[encoded data removed]",
            "text/plain": [
              "<Figure size 1440x720 with 1 Axes>"
            ]
          },
          "metadata": {
            "tags": [],
            "needs_background": "light"
          }
        }
      ]
    },
    {
      "cell_type": "markdown",
      "metadata": {
        "id": "JTmkGVLOmZx7"
      },
      "source": [
        "Determinar la hora pico de consultas en cada departamento."
      ]
    },
    {
      "cell_type": "code",
      "metadata": {
        "colab": {
          "base_uri": "https://localhost:8080/",
          "height": 308
        },
        "id": "hckPQ1VCmgdn",
        "outputId": "03073e19-9142-44d5-941d-f32fcee77687"
      },
      "source": [
        "df7 = df4[['Departamento', 'Fecha_consulta']]\n",
        "\n",
        "df4['Hora_consulta'] = pd.to_datetime(df4['Hora_consulta'], format='%H:%M:%S')\n",
        "\n",
        "df7['Franja_horaria'] = df4['Hora_consulta'].dt.hour\n",
        "\n",
        "df7.head()"
      ],
      "execution_count": null,
      "outputs": [
        {
          "output_type": "stream",
          "text": [
            "/usr/local/lib/python3.7/dist-packages/ipykernel_launcher.py:5: SettingWithCopyWarning: \n",
            "A value is trying to be set on a copy of a slice from a DataFrame.\n",
            "Try using .loc[row_indexer,col_indexer] = value instead\n",
            "\n",
            "See the caveats in the documentation: https://pandas.pydata.org/pandas-docs/stable/user_guide/indexing.html#returning-a-view-versus-a-copy\n",
            "  \"\"\"\n"
          ],
          "name": "stderr"
        },
        {
          "output_type": "execute_result",
          "data": {
            "text/html": [
              "<div>\n",
              "<style scoped>\n",
              "    .dataframe tbody tr th:only-of-type {\n",
              "        vertical-align: middle;\n",
              "    }\n",
              "\n",
              "    .dataframe tbody tr th {\n",
              "        vertical-align: top;\n",
              "    }\n",
              "\n",
              "    .dataframe thead th {\n",
              "        text-align: right;\n",
              "    }\n",
              "</style>\n",
              "<table border=\"1\" class=\"dataframe\">\n",
              "  <thead>\n",
              "    <tr style=\"text-align: right;\">\n",
              "      <th></th>\n",
              "      <th>Departamento</th>\n",
              "      <th>Fecha_consulta</th>\n",
              "      <th>Franja_horaria</th>\n",
              "    </tr>\n",
              "  </thead>\n",
              "  <tbody>\n",
              "    <tr>\n",
              "      <th>0</th>\n",
              "      <td>SANTAFÉ DE BOGOTÁ</td>\n",
              "      <td>2015-06-22</td>\n",
              "      <td>16</td>\n",
              "    </tr>\n",
              "    <tr>\n",
              "      <th>1</th>\n",
              "      <td>SANTAFÉ DE BOGOTÁ</td>\n",
              "      <td>2015-06-22</td>\n",
              "      <td>16</td>\n",
              "    </tr>\n",
              "    <tr>\n",
              "      <th>2</th>\n",
              "      <td>SANTAFÉ DE BOGOTÁ</td>\n",
              "      <td>2015-06-22</td>\n",
              "      <td>15</td>\n",
              "    </tr>\n",
              "    <tr>\n",
              "      <th>3</th>\n",
              "      <td>SANTAFÉ DE BOGOTÁ</td>\n",
              "      <td>2015-09-09</td>\n",
              "      <td>14</td>\n",
              "    </tr>\n",
              "    <tr>\n",
              "      <th>4</th>\n",
              "      <td>SANTAFÉ DE BOGOTÁ</td>\n",
              "      <td>2015-07-24</td>\n",
              "      <td>20</td>\n",
              "    </tr>\n",
              "  </tbody>\n",
              "</table>\n",
              "</div>"
            ],
            "text/plain": [
              "        Departamento Fecha_consulta  Franja_horaria\n",
              "0  SANTAFÉ DE BOGOTÁ     2015-06-22              16\n",
              "1  SANTAFÉ DE BOGOTÁ     2015-06-22              16\n",
              "2  SANTAFÉ DE BOGOTÁ     2015-06-22              15\n",
              "3  SANTAFÉ DE BOGOTÁ     2015-09-09              14\n",
              "4  SANTAFÉ DE BOGOTÁ     2015-07-24              20"
            ]
          },
          "metadata": {
            "tags": []
          },
          "execution_count": 78
        }
      ]
    },
    {
      "cell_type": "code",
      "metadata": {
        "colab": {
          "base_uri": "https://localhost:8080/"
        },
        "id": "W4Y6v3_wwxR4",
        "outputId": "af07cc30-f1b1-4a3f-cc29-623d1f299e83"
      },
      "source": [
        "df7.shape"
      ],
      "execution_count": null,
      "outputs": [
        {
          "output_type": "execute_result",
          "data": {
            "text/plain": [
              "(641240, 3)"
            ]
          },
          "metadata": {
            "tags": []
          },
          "execution_count": 79
        }
      ]
    },
    {
      "cell_type": "code",
      "metadata": {
        "id": "FNWJJiZ-w0T-"
      },
      "source": [
        "df8 = df7.groupby(['Departamento', 'Franja_horaria'], as_index=False).size()\n",
        "\n",
        "df8.rename(columns={'size':'Cantidad_consultas'}, inplace=True)\n",
        "\n",
        "list7 = df7.Departamento.unique().tolist()\n",
        "\n",
        "list8 = []\n",
        "\n",
        "for i in list7: \n",
        "  tuple8 = df8[df8['Departamento'] == i].max()\n",
        "  list8.append(tuple8)"
      ],
      "execution_count": null,
      "outputs": []
    },
    {
      "cell_type": "code",
      "metadata": {
        "id": "66dzn69Z5nfr"
      },
      "source": [
        "df9 = pd.DataFrame(list8, columns=['Departamento', 'Franja_horaria', 'Cantidad_consultas']).sort_values('Cantidad_consultas', ascending=False)"
      ],
      "execution_count": null,
      "outputs": []
    },
    {
      "cell_type": "code",
      "metadata": {
        "colab": {
          "base_uri": "https://localhost:8080/",
          "height": 1000
        },
        "id": "_YM4fJas66CZ",
        "outputId": "5d0d4746-a456-4013-85e9-1244691925ca"
      },
      "source": [
        "df9"
      ],
      "execution_count": null,
      "outputs": [
        {
          "output_type": "execute_result",
          "data": {
            "text/html": [
              "<div>\n",
              "<style scoped>\n",
              "    .dataframe tbody tr th:only-of-type {\n",
              "        vertical-align: middle;\n",
              "    }\n",
              "\n",
              "    .dataframe tbody tr th {\n",
              "        vertical-align: top;\n",
              "    }\n",
              "\n",
              "    .dataframe thead th {\n",
              "        text-align: right;\n",
              "    }\n",
              "</style>\n",
              "<table border=\"1\" class=\"dataframe\">\n",
              "  <thead>\n",
              "    <tr style=\"text-align: right;\">\n",
              "      <th></th>\n",
              "      <th>Departamento</th>\n",
              "      <th>Franja_horaria</th>\n",
              "      <th>Cantidad_consultas</th>\n",
              "    </tr>\n",
              "  </thead>\n",
              "  <tbody>\n",
              "    <tr>\n",
              "      <th>0</th>\n",
              "      <td>SANTAFÉ DE BOGOTÁ</td>\n",
              "      <td>23</td>\n",
              "      <td>53979</td>\n",
              "    </tr>\n",
              "    <tr>\n",
              "      <th>2</th>\n",
              "      <td>ANTIOQUIA</td>\n",
              "      <td>23</td>\n",
              "      <td>5377</td>\n",
              "    </tr>\n",
              "    <tr>\n",
              "      <th>7</th>\n",
              "      <td>VALLE DEL CAUCA</td>\n",
              "      <td>23</td>\n",
              "      <td>4088</td>\n",
              "    </tr>\n",
              "    <tr>\n",
              "      <th>6</th>\n",
              "      <td>CUNDINAMARCA</td>\n",
              "      <td>23</td>\n",
              "      <td>2329</td>\n",
              "    </tr>\n",
              "    <tr>\n",
              "      <th>5</th>\n",
              "      <td>ATLÁNTICO</td>\n",
              "      <td>23</td>\n",
              "      <td>1716</td>\n",
              "    </tr>\n",
              "    <tr>\n",
              "      <th>9</th>\n",
              "      <td>SANTANDER</td>\n",
              "      <td>23</td>\n",
              "      <td>995</td>\n",
              "    </tr>\n",
              "    <tr>\n",
              "      <th>4</th>\n",
              "      <td>META</td>\n",
              "      <td>23</td>\n",
              "      <td>775</td>\n",
              "    </tr>\n",
              "    <tr>\n",
              "      <th>14</th>\n",
              "      <td>HUILA</td>\n",
              "      <td>23</td>\n",
              "      <td>598</td>\n",
              "    </tr>\n",
              "    <tr>\n",
              "      <th>8</th>\n",
              "      <td>RISARALDA</td>\n",
              "      <td>23</td>\n",
              "      <td>583</td>\n",
              "    </tr>\n",
              "    <tr>\n",
              "      <th>18</th>\n",
              "      <td>TOLIMA</td>\n",
              "      <td>23</td>\n",
              "      <td>571</td>\n",
              "    </tr>\n",
              "    <tr>\n",
              "      <th>21</th>\n",
              "      <td>MAGDALENA</td>\n",
              "      <td>23</td>\n",
              "      <td>440</td>\n",
              "    </tr>\n",
              "    <tr>\n",
              "      <th>12</th>\n",
              "      <td>BOLÍVAR</td>\n",
              "      <td>23</td>\n",
              "      <td>361</td>\n",
              "    </tr>\n",
              "    <tr>\n",
              "      <th>15</th>\n",
              "      <td>CALDAS</td>\n",
              "      <td>23</td>\n",
              "      <td>326</td>\n",
              "    </tr>\n",
              "    <tr>\n",
              "      <th>3</th>\n",
              "      <td>CESAR</td>\n",
              "      <td>23</td>\n",
              "      <td>309</td>\n",
              "    </tr>\n",
              "    <tr>\n",
              "      <th>16</th>\n",
              "      <td>CASANARE</td>\n",
              "      <td>23</td>\n",
              "      <td>271</td>\n",
              "    </tr>\n",
              "    <tr>\n",
              "      <th>25</th>\n",
              "      <td>BOYACÁ</td>\n",
              "      <td>23</td>\n",
              "      <td>262</td>\n",
              "    </tr>\n",
              "    <tr>\n",
              "      <th>1</th>\n",
              "      <td>EXTERIOR</td>\n",
              "      <td>23</td>\n",
              "      <td>231</td>\n",
              "    </tr>\n",
              "    <tr>\n",
              "      <th>20</th>\n",
              "      <td>NORTE DE SANTANDER</td>\n",
              "      <td>23</td>\n",
              "      <td>222</td>\n",
              "    </tr>\n",
              "    <tr>\n",
              "      <th>11</th>\n",
              "      <td>QUINDÍO</td>\n",
              "      <td>23</td>\n",
              "      <td>201</td>\n",
              "    </tr>\n",
              "    <tr>\n",
              "      <th>17</th>\n",
              "      <td>CAUCA</td>\n",
              "      <td>23</td>\n",
              "      <td>184</td>\n",
              "    </tr>\n",
              "    <tr>\n",
              "      <th>13</th>\n",
              "      <td>NARIÑO</td>\n",
              "      <td>23</td>\n",
              "      <td>169</td>\n",
              "    </tr>\n",
              "    <tr>\n",
              "      <th>10</th>\n",
              "      <td>ARAUCA</td>\n",
              "      <td>23</td>\n",
              "      <td>130</td>\n",
              "    </tr>\n",
              "    <tr>\n",
              "      <th>27</th>\n",
              "      <td>CÓRDOBA</td>\n",
              "      <td>23</td>\n",
              "      <td>101</td>\n",
              "    </tr>\n",
              "    <tr>\n",
              "      <th>19</th>\n",
              "      <td>PUTUMAYO</td>\n",
              "      <td>23</td>\n",
              "      <td>70</td>\n",
              "    </tr>\n",
              "    <tr>\n",
              "      <th>23</th>\n",
              "      <td>LA GUAJIRA</td>\n",
              "      <td>23</td>\n",
              "      <td>66</td>\n",
              "    </tr>\n",
              "    <tr>\n",
              "      <th>24</th>\n",
              "      <td>SUCRE</td>\n",
              "      <td>23</td>\n",
              "      <td>51</td>\n",
              "    </tr>\n",
              "    <tr>\n",
              "      <th>28</th>\n",
              "      <td>CAQUETÁ</td>\n",
              "      <td>23</td>\n",
              "      <td>33</td>\n",
              "    </tr>\n",
              "    <tr>\n",
              "      <th>26</th>\n",
              "      <td>CHOCÓ</td>\n",
              "      <td>23</td>\n",
              "      <td>22</td>\n",
              "    </tr>\n",
              "    <tr>\n",
              "      <th>22</th>\n",
              "      <td>AMAZONAS</td>\n",
              "      <td>23</td>\n",
              "      <td>13</td>\n",
              "    </tr>\n",
              "    <tr>\n",
              "      <th>33</th>\n",
              "      <td>SAN ANDRÉS Y PROVIDENCIA</td>\n",
              "      <td>23</td>\n",
              "      <td>12</td>\n",
              "    </tr>\n",
              "    <tr>\n",
              "      <th>30</th>\n",
              "      <td>GUAVIARE</td>\n",
              "      <td>23</td>\n",
              "      <td>11</td>\n",
              "    </tr>\n",
              "    <tr>\n",
              "      <th>32</th>\n",
              "      <td>VICHADA</td>\n",
              "      <td>23</td>\n",
              "      <td>7</td>\n",
              "    </tr>\n",
              "    <tr>\n",
              "      <th>31</th>\n",
              "      <td>VAUPÉS</td>\n",
              "      <td>23</td>\n",
              "      <td>5</td>\n",
              "    </tr>\n",
              "    <tr>\n",
              "      <th>29</th>\n",
              "      <td>GUAINÍA</td>\n",
              "      <td>21</td>\n",
              "      <td>3</td>\n",
              "    </tr>\n",
              "  </tbody>\n",
              "</table>\n",
              "</div>"
            ],
            "text/plain": [
              "                Departamento  Franja_horaria  Cantidad_consultas\n",
              "0          SANTAFÉ DE BOGOTÁ              23               53979\n",
              "2                  ANTIOQUIA              23                5377\n",
              "7            VALLE DEL CAUCA              23                4088\n",
              "6               CUNDINAMARCA              23                2329\n",
              "5                  ATLÁNTICO              23                1716\n",
              "9                  SANTANDER              23                 995\n",
              "4                       META              23                 775\n",
              "14                     HUILA              23                 598\n",
              "8                  RISARALDA              23                 583\n",
              "18                    TOLIMA              23                 571\n",
              "21                 MAGDALENA              23                 440\n",
              "12                   BOLÍVAR              23                 361\n",
              "15                    CALDAS              23                 326\n",
              "3                      CESAR              23                 309\n",
              "16                  CASANARE              23                 271\n",
              "25                    BOYACÁ              23                 262\n",
              "1                   EXTERIOR              23                 231\n",
              "20        NORTE DE SANTANDER              23                 222\n",
              "11                   QUINDÍO              23                 201\n",
              "17                     CAUCA              23                 184\n",
              "13                    NARIÑO              23                 169\n",
              "10                    ARAUCA              23                 130\n",
              "27                   CÓRDOBA              23                 101\n",
              "19                  PUTUMAYO              23                  70\n",
              "23                LA GUAJIRA              23                  66\n",
              "24                     SUCRE              23                  51\n",
              "28                   CAQUETÁ              23                  33\n",
              "26                     CHOCÓ              23                  22\n",
              "22                  AMAZONAS              23                  13\n",
              "33  SAN ANDRÉS Y PROVIDENCIA              23                  12\n",
              "30                  GUAVIARE              23                  11\n",
              "32                   VICHADA              23                   7\n",
              "31                    VAUPÉS              23                   5\n",
              "29                   GUAINÍA              21                   3"
            ]
          },
          "metadata": {
            "tags": []
          },
          "execution_count": 122
        }
      ]
    },
    {
      "cell_type": "markdown",
      "metadata": {
        "id": "ppS9kTKKZ4ab"
      },
      "source": [
        "¿Qué características tienen en común las personas que realizan las consultas en la misma franja horaria? ¿El tipo de persona o el departamento?\n",
        "¿Cuál es el top 100 de usuarios que realizaron la mayor cantidad de consultas? "
      ]
    },
    {
      "cell_type": "code",
      "metadata": {
        "id": "SMSI1Ugzl_h2"
      },
      "source": [
        ""
      ],
      "execution_count": null,
      "outputs": []
    },
    {
      "cell_type": "code",
      "metadata": {
        "id": "U1NxRGC8l_Dt"
      },
      "source": [
        ""
      ],
      "execution_count": null,
      "outputs": []
    },
    {
      "cell_type": "markdown",
      "metadata": {
        "id": "7nvZgClQa7a6"
      },
      "source": [
        "Predecir el siguiente tipo de consulta que un usuario va a realizar. Predecir el departamento desde donde se va a disparar la siguiente consulta."
      ]
    },
    {
      "cell_type": "code",
      "metadata": {
        "id": "Og2no5PlcPSs"
      },
      "source": [
        ""
      ],
      "execution_count": null,
      "outputs": []
    },
    {
      "cell_type": "code",
      "metadata": {
        "id": "9p89WdW_ZQqg"
      },
      "source": [
        ""
      ],
      "execution_count": null,
      "outputs": []
    }
  ]
}